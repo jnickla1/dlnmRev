{
 "cells": [
  {
   "cell_type": "code",
   "execution_count": 6,
   "id": "ea1241be",
   "metadata": {},
   "outputs": [],
   "source": [
    "import numpy as np\n",
    "import pandas as pd\n",
    "import matplotlib.pyplot as plt\n",
    "import seaborn as sns\n",
    "from scipy.stats import f_oneway\n",
    "from scipy.stats import normaltest\n",
    "from scipy.stats import kruskal\n",
    "from scipy.stats import alexandergovern\n",
    "from scipy.stats import bartlett\n",
    "from scipy.stats import chisquare"
   ]
  },
  {
   "cell_type": "markdown",
   "id": "583da2ff",
   "metadata": {},
   "source": [
    "# Recode Vars in Datasets"
   ]
  },
  {
   "cell_type": "code",
   "execution_count": 5,
   "id": "b62a8a91",
   "metadata": {
    "scrolled": true
   },
   "outputs": [
    {
     "ename": "FileNotFoundError",
     "evalue": "[Errno 2] No such file or directory: 'dlnmRev_updated/data_for_DLNMs/post_df_ALLVARS.csv'",
     "output_type": "error",
     "traceback": [
      "\u001b[0;31m---------------------------------------------------------------------------\u001b[0m",
      "\u001b[0;31mFileNotFoundError\u001b[0m                         Traceback (most recent call last)",
      "Input \u001b[0;32mIn [5]\u001b[0m, in \u001b[0;36m<cell line: 3>\u001b[0;34m()\u001b[0m\n\u001b[1;32m      1\u001b[0m \u001b[38;5;66;03m#post_df = pd.read_csv('dlnmRev_updated/data_for_DLNMs/post_df.csv')\u001b[39;00m\n\u001b[0;32m----> 3\u001b[0m post_df2 \u001b[38;5;241m=\u001b[39m \u001b[43mpd\u001b[49m\u001b[38;5;241;43m.\u001b[39;49m\u001b[43mread_csv\u001b[49m\u001b[43m(\u001b[49m\u001b[38;5;124;43m'\u001b[39;49m\u001b[38;5;124;43mdlnmRev_updated/data_for_DLNMs/post_df_ALLVARS.csv\u001b[39;49m\u001b[38;5;124;43m'\u001b[39;49m\u001b[43m)\u001b[49m\n",
      "File \u001b[0;32m~/anaconda3/lib/python3.10/site-packages/pandas/util/_decorators.py:211\u001b[0m, in \u001b[0;36mdeprecate_kwarg.<locals>._deprecate_kwarg.<locals>.wrapper\u001b[0;34m(*args, **kwargs)\u001b[0m\n\u001b[1;32m    209\u001b[0m     \u001b[38;5;28;01melse\u001b[39;00m:\n\u001b[1;32m    210\u001b[0m         kwargs[new_arg_name] \u001b[38;5;241m=\u001b[39m new_arg_value\n\u001b[0;32m--> 211\u001b[0m \u001b[38;5;28;01mreturn\u001b[39;00m \u001b[43mfunc\u001b[49m\u001b[43m(\u001b[49m\u001b[38;5;241;43m*\u001b[39;49m\u001b[43margs\u001b[49m\u001b[43m,\u001b[49m\u001b[43m \u001b[49m\u001b[38;5;241;43m*\u001b[39;49m\u001b[38;5;241;43m*\u001b[39;49m\u001b[43mkwargs\u001b[49m\u001b[43m)\u001b[49m\n",
      "File \u001b[0;32m~/anaconda3/lib/python3.10/site-packages/pandas/util/_decorators.py:331\u001b[0m, in \u001b[0;36mdeprecate_nonkeyword_arguments.<locals>.decorate.<locals>.wrapper\u001b[0;34m(*args, **kwargs)\u001b[0m\n\u001b[1;32m    325\u001b[0m \u001b[38;5;28;01mif\u001b[39;00m \u001b[38;5;28mlen\u001b[39m(args) \u001b[38;5;241m>\u001b[39m num_allow_args:\n\u001b[1;32m    326\u001b[0m     warnings\u001b[38;5;241m.\u001b[39mwarn(\n\u001b[1;32m    327\u001b[0m         msg\u001b[38;5;241m.\u001b[39mformat(arguments\u001b[38;5;241m=\u001b[39m_format_argument_list(allow_args)),\n\u001b[1;32m    328\u001b[0m         \u001b[38;5;167;01mFutureWarning\u001b[39;00m,\n\u001b[1;32m    329\u001b[0m         stacklevel\u001b[38;5;241m=\u001b[39mfind_stack_level(),\n\u001b[1;32m    330\u001b[0m     )\n\u001b[0;32m--> 331\u001b[0m \u001b[38;5;28;01mreturn\u001b[39;00m \u001b[43mfunc\u001b[49m\u001b[43m(\u001b[49m\u001b[38;5;241;43m*\u001b[39;49m\u001b[43margs\u001b[49m\u001b[43m,\u001b[49m\u001b[43m \u001b[49m\u001b[38;5;241;43m*\u001b[39;49m\u001b[38;5;241;43m*\u001b[39;49m\u001b[43mkwargs\u001b[49m\u001b[43m)\u001b[49m\n",
      "File \u001b[0;32m~/anaconda3/lib/python3.10/site-packages/pandas/io/parsers/readers.py:950\u001b[0m, in \u001b[0;36mread_csv\u001b[0;34m(filepath_or_buffer, sep, delimiter, header, names, index_col, usecols, squeeze, prefix, mangle_dupe_cols, dtype, engine, converters, true_values, false_values, skipinitialspace, skiprows, skipfooter, nrows, na_values, keep_default_na, na_filter, verbose, skip_blank_lines, parse_dates, infer_datetime_format, keep_date_col, date_parser, dayfirst, cache_dates, iterator, chunksize, compression, thousands, decimal, lineterminator, quotechar, quoting, doublequote, escapechar, comment, encoding, encoding_errors, dialect, error_bad_lines, warn_bad_lines, on_bad_lines, delim_whitespace, low_memory, memory_map, float_precision, storage_options)\u001b[0m\n\u001b[1;32m    935\u001b[0m kwds_defaults \u001b[38;5;241m=\u001b[39m _refine_defaults_read(\n\u001b[1;32m    936\u001b[0m     dialect,\n\u001b[1;32m    937\u001b[0m     delimiter,\n\u001b[0;32m   (...)\u001b[0m\n\u001b[1;32m    946\u001b[0m     defaults\u001b[38;5;241m=\u001b[39m{\u001b[38;5;124m\"\u001b[39m\u001b[38;5;124mdelimiter\u001b[39m\u001b[38;5;124m\"\u001b[39m: \u001b[38;5;124m\"\u001b[39m\u001b[38;5;124m,\u001b[39m\u001b[38;5;124m\"\u001b[39m},\n\u001b[1;32m    947\u001b[0m )\n\u001b[1;32m    948\u001b[0m kwds\u001b[38;5;241m.\u001b[39mupdate(kwds_defaults)\n\u001b[0;32m--> 950\u001b[0m \u001b[38;5;28;01mreturn\u001b[39;00m \u001b[43m_read\u001b[49m\u001b[43m(\u001b[49m\u001b[43mfilepath_or_buffer\u001b[49m\u001b[43m,\u001b[49m\u001b[43m \u001b[49m\u001b[43mkwds\u001b[49m\u001b[43m)\u001b[49m\n",
      "File \u001b[0;32m~/anaconda3/lib/python3.10/site-packages/pandas/io/parsers/readers.py:605\u001b[0m, in \u001b[0;36m_read\u001b[0;34m(filepath_or_buffer, kwds)\u001b[0m\n\u001b[1;32m    602\u001b[0m _validate_names(kwds\u001b[38;5;241m.\u001b[39mget(\u001b[38;5;124m\"\u001b[39m\u001b[38;5;124mnames\u001b[39m\u001b[38;5;124m\"\u001b[39m, \u001b[38;5;28;01mNone\u001b[39;00m))\n\u001b[1;32m    604\u001b[0m \u001b[38;5;66;03m# Create the parser.\u001b[39;00m\n\u001b[0;32m--> 605\u001b[0m parser \u001b[38;5;241m=\u001b[39m \u001b[43mTextFileReader\u001b[49m\u001b[43m(\u001b[49m\u001b[43mfilepath_or_buffer\u001b[49m\u001b[43m,\u001b[49m\u001b[43m \u001b[49m\u001b[38;5;241;43m*\u001b[39;49m\u001b[38;5;241;43m*\u001b[39;49m\u001b[43mkwds\u001b[49m\u001b[43m)\u001b[49m\n\u001b[1;32m    607\u001b[0m \u001b[38;5;28;01mif\u001b[39;00m chunksize \u001b[38;5;129;01mor\u001b[39;00m iterator:\n\u001b[1;32m    608\u001b[0m     \u001b[38;5;28;01mreturn\u001b[39;00m parser\n",
      "File \u001b[0;32m~/anaconda3/lib/python3.10/site-packages/pandas/io/parsers/readers.py:1442\u001b[0m, in \u001b[0;36mTextFileReader.__init__\u001b[0;34m(self, f, engine, **kwds)\u001b[0m\n\u001b[1;32m   1439\u001b[0m     \u001b[38;5;28mself\u001b[39m\u001b[38;5;241m.\u001b[39moptions[\u001b[38;5;124m\"\u001b[39m\u001b[38;5;124mhas_index_names\u001b[39m\u001b[38;5;124m\"\u001b[39m] \u001b[38;5;241m=\u001b[39m kwds[\u001b[38;5;124m\"\u001b[39m\u001b[38;5;124mhas_index_names\u001b[39m\u001b[38;5;124m\"\u001b[39m]\n\u001b[1;32m   1441\u001b[0m \u001b[38;5;28mself\u001b[39m\u001b[38;5;241m.\u001b[39mhandles: IOHandles \u001b[38;5;241m|\u001b[39m \u001b[38;5;28;01mNone\u001b[39;00m \u001b[38;5;241m=\u001b[39m \u001b[38;5;28;01mNone\u001b[39;00m\n\u001b[0;32m-> 1442\u001b[0m \u001b[38;5;28mself\u001b[39m\u001b[38;5;241m.\u001b[39m_engine \u001b[38;5;241m=\u001b[39m \u001b[38;5;28;43mself\u001b[39;49m\u001b[38;5;241;43m.\u001b[39;49m\u001b[43m_make_engine\u001b[49m\u001b[43m(\u001b[49m\u001b[43mf\u001b[49m\u001b[43m,\u001b[49m\u001b[43m \u001b[49m\u001b[38;5;28;43mself\u001b[39;49m\u001b[38;5;241;43m.\u001b[39;49m\u001b[43mengine\u001b[49m\u001b[43m)\u001b[49m\n",
      "File \u001b[0;32m~/anaconda3/lib/python3.10/site-packages/pandas/io/parsers/readers.py:1735\u001b[0m, in \u001b[0;36mTextFileReader._make_engine\u001b[0;34m(self, f, engine)\u001b[0m\n\u001b[1;32m   1733\u001b[0m     \u001b[38;5;28;01mif\u001b[39;00m \u001b[38;5;124m\"\u001b[39m\u001b[38;5;124mb\u001b[39m\u001b[38;5;124m\"\u001b[39m \u001b[38;5;129;01mnot\u001b[39;00m \u001b[38;5;129;01min\u001b[39;00m mode:\n\u001b[1;32m   1734\u001b[0m         mode \u001b[38;5;241m+\u001b[39m\u001b[38;5;241m=\u001b[39m \u001b[38;5;124m\"\u001b[39m\u001b[38;5;124mb\u001b[39m\u001b[38;5;124m\"\u001b[39m\n\u001b[0;32m-> 1735\u001b[0m \u001b[38;5;28mself\u001b[39m\u001b[38;5;241m.\u001b[39mhandles \u001b[38;5;241m=\u001b[39m \u001b[43mget_handle\u001b[49m\u001b[43m(\u001b[49m\n\u001b[1;32m   1736\u001b[0m \u001b[43m    \u001b[49m\u001b[43mf\u001b[49m\u001b[43m,\u001b[49m\n\u001b[1;32m   1737\u001b[0m \u001b[43m    \u001b[49m\u001b[43mmode\u001b[49m\u001b[43m,\u001b[49m\n\u001b[1;32m   1738\u001b[0m \u001b[43m    \u001b[49m\u001b[43mencoding\u001b[49m\u001b[38;5;241;43m=\u001b[39;49m\u001b[38;5;28;43mself\u001b[39;49m\u001b[38;5;241;43m.\u001b[39;49m\u001b[43moptions\u001b[49m\u001b[38;5;241;43m.\u001b[39;49m\u001b[43mget\u001b[49m\u001b[43m(\u001b[49m\u001b[38;5;124;43m\"\u001b[39;49m\u001b[38;5;124;43mencoding\u001b[39;49m\u001b[38;5;124;43m\"\u001b[39;49m\u001b[43m,\u001b[49m\u001b[43m \u001b[49m\u001b[38;5;28;43;01mNone\u001b[39;49;00m\u001b[43m)\u001b[49m\u001b[43m,\u001b[49m\n\u001b[1;32m   1739\u001b[0m \u001b[43m    \u001b[49m\u001b[43mcompression\u001b[49m\u001b[38;5;241;43m=\u001b[39;49m\u001b[38;5;28;43mself\u001b[39;49m\u001b[38;5;241;43m.\u001b[39;49m\u001b[43moptions\u001b[49m\u001b[38;5;241;43m.\u001b[39;49m\u001b[43mget\u001b[49m\u001b[43m(\u001b[49m\u001b[38;5;124;43m\"\u001b[39;49m\u001b[38;5;124;43mcompression\u001b[39;49m\u001b[38;5;124;43m\"\u001b[39;49m\u001b[43m,\u001b[49m\u001b[43m \u001b[49m\u001b[38;5;28;43;01mNone\u001b[39;49;00m\u001b[43m)\u001b[49m\u001b[43m,\u001b[49m\n\u001b[1;32m   1740\u001b[0m \u001b[43m    \u001b[49m\u001b[43mmemory_map\u001b[49m\u001b[38;5;241;43m=\u001b[39;49m\u001b[38;5;28;43mself\u001b[39;49m\u001b[38;5;241;43m.\u001b[39;49m\u001b[43moptions\u001b[49m\u001b[38;5;241;43m.\u001b[39;49m\u001b[43mget\u001b[49m\u001b[43m(\u001b[49m\u001b[38;5;124;43m\"\u001b[39;49m\u001b[38;5;124;43mmemory_map\u001b[39;49m\u001b[38;5;124;43m\"\u001b[39;49m\u001b[43m,\u001b[49m\u001b[43m \u001b[49m\u001b[38;5;28;43;01mFalse\u001b[39;49;00m\u001b[43m)\u001b[49m\u001b[43m,\u001b[49m\n\u001b[1;32m   1741\u001b[0m \u001b[43m    \u001b[49m\u001b[43mis_text\u001b[49m\u001b[38;5;241;43m=\u001b[39;49m\u001b[43mis_text\u001b[49m\u001b[43m,\u001b[49m\n\u001b[1;32m   1742\u001b[0m \u001b[43m    \u001b[49m\u001b[43merrors\u001b[49m\u001b[38;5;241;43m=\u001b[39;49m\u001b[38;5;28;43mself\u001b[39;49m\u001b[38;5;241;43m.\u001b[39;49m\u001b[43moptions\u001b[49m\u001b[38;5;241;43m.\u001b[39;49m\u001b[43mget\u001b[49m\u001b[43m(\u001b[49m\u001b[38;5;124;43m\"\u001b[39;49m\u001b[38;5;124;43mencoding_errors\u001b[39;49m\u001b[38;5;124;43m\"\u001b[39;49m\u001b[43m,\u001b[49m\u001b[43m \u001b[49m\u001b[38;5;124;43m\"\u001b[39;49m\u001b[38;5;124;43mstrict\u001b[39;49m\u001b[38;5;124;43m\"\u001b[39;49m\u001b[43m)\u001b[49m\u001b[43m,\u001b[49m\n\u001b[1;32m   1743\u001b[0m \u001b[43m    \u001b[49m\u001b[43mstorage_options\u001b[49m\u001b[38;5;241;43m=\u001b[39;49m\u001b[38;5;28;43mself\u001b[39;49m\u001b[38;5;241;43m.\u001b[39;49m\u001b[43moptions\u001b[49m\u001b[38;5;241;43m.\u001b[39;49m\u001b[43mget\u001b[49m\u001b[43m(\u001b[49m\u001b[38;5;124;43m\"\u001b[39;49m\u001b[38;5;124;43mstorage_options\u001b[39;49m\u001b[38;5;124;43m\"\u001b[39;49m\u001b[43m,\u001b[49m\u001b[43m \u001b[49m\u001b[38;5;28;43;01mNone\u001b[39;49;00m\u001b[43m)\u001b[49m\u001b[43m,\u001b[49m\n\u001b[1;32m   1744\u001b[0m \u001b[43m\u001b[49m\u001b[43m)\u001b[49m\n\u001b[1;32m   1745\u001b[0m \u001b[38;5;28;01massert\u001b[39;00m \u001b[38;5;28mself\u001b[39m\u001b[38;5;241m.\u001b[39mhandles \u001b[38;5;129;01mis\u001b[39;00m \u001b[38;5;129;01mnot\u001b[39;00m \u001b[38;5;28;01mNone\u001b[39;00m\n\u001b[1;32m   1746\u001b[0m f \u001b[38;5;241m=\u001b[39m \u001b[38;5;28mself\u001b[39m\u001b[38;5;241m.\u001b[39mhandles\u001b[38;5;241m.\u001b[39mhandle\n",
      "File \u001b[0;32m~/anaconda3/lib/python3.10/site-packages/pandas/io/common.py:856\u001b[0m, in \u001b[0;36mget_handle\u001b[0;34m(path_or_buf, mode, encoding, compression, memory_map, is_text, errors, storage_options)\u001b[0m\n\u001b[1;32m    851\u001b[0m \u001b[38;5;28;01melif\u001b[39;00m \u001b[38;5;28misinstance\u001b[39m(handle, \u001b[38;5;28mstr\u001b[39m):\n\u001b[1;32m    852\u001b[0m     \u001b[38;5;66;03m# Check whether the filename is to be opened in binary mode.\u001b[39;00m\n\u001b[1;32m    853\u001b[0m     \u001b[38;5;66;03m# Binary mode does not support 'encoding' and 'newline'.\u001b[39;00m\n\u001b[1;32m    854\u001b[0m     \u001b[38;5;28;01mif\u001b[39;00m ioargs\u001b[38;5;241m.\u001b[39mencoding \u001b[38;5;129;01mand\u001b[39;00m \u001b[38;5;124m\"\u001b[39m\u001b[38;5;124mb\u001b[39m\u001b[38;5;124m\"\u001b[39m \u001b[38;5;129;01mnot\u001b[39;00m \u001b[38;5;129;01min\u001b[39;00m ioargs\u001b[38;5;241m.\u001b[39mmode:\n\u001b[1;32m    855\u001b[0m         \u001b[38;5;66;03m# Encoding\u001b[39;00m\n\u001b[0;32m--> 856\u001b[0m         handle \u001b[38;5;241m=\u001b[39m \u001b[38;5;28;43mopen\u001b[39;49m\u001b[43m(\u001b[49m\n\u001b[1;32m    857\u001b[0m \u001b[43m            \u001b[49m\u001b[43mhandle\u001b[49m\u001b[43m,\u001b[49m\n\u001b[1;32m    858\u001b[0m \u001b[43m            \u001b[49m\u001b[43mioargs\u001b[49m\u001b[38;5;241;43m.\u001b[39;49m\u001b[43mmode\u001b[49m\u001b[43m,\u001b[49m\n\u001b[1;32m    859\u001b[0m \u001b[43m            \u001b[49m\u001b[43mencoding\u001b[49m\u001b[38;5;241;43m=\u001b[39;49m\u001b[43mioargs\u001b[49m\u001b[38;5;241;43m.\u001b[39;49m\u001b[43mencoding\u001b[49m\u001b[43m,\u001b[49m\n\u001b[1;32m    860\u001b[0m \u001b[43m            \u001b[49m\u001b[43merrors\u001b[49m\u001b[38;5;241;43m=\u001b[39;49m\u001b[43merrors\u001b[49m\u001b[43m,\u001b[49m\n\u001b[1;32m    861\u001b[0m \u001b[43m            \u001b[49m\u001b[43mnewline\u001b[49m\u001b[38;5;241;43m=\u001b[39;49m\u001b[38;5;124;43m\"\u001b[39;49m\u001b[38;5;124;43m\"\u001b[39;49m\u001b[43m,\u001b[49m\n\u001b[1;32m    862\u001b[0m \u001b[43m        \u001b[49m\u001b[43m)\u001b[49m\n\u001b[1;32m    863\u001b[0m     \u001b[38;5;28;01melse\u001b[39;00m:\n\u001b[1;32m    864\u001b[0m         \u001b[38;5;66;03m# Binary mode\u001b[39;00m\n\u001b[1;32m    865\u001b[0m         handle \u001b[38;5;241m=\u001b[39m \u001b[38;5;28mopen\u001b[39m(handle, ioargs\u001b[38;5;241m.\u001b[39mmode)\n",
      "\u001b[0;31mFileNotFoundError\u001b[0m: [Errno 2] No such file or directory: 'dlnmRev_updated/data_for_DLNMs/post_df_ALLVARS.csv'"
     ]
    }
   ],
   "source": [
    "post_df = pd.read_csv('dlnmRev_updated/data_for_DLNMs/post_df.csv')\n",
    "\n",
    "post_df2 = pd.read_csv('dlnmRev_updated/data_for_DLNMs/post_df_ALLVARS.csv')"
   ]
  },
  {
   "cell_type": "code",
   "execution_count": null,
   "id": "b90b34f8",
   "metadata": {},
   "outputs": [],
   "source": []
  },
  {
   "cell_type": "code",
   "execution_count": 26,
   "id": "e26828d5",
   "metadata": {},
   "outputs": [],
   "source": [
    "#check alignment\n",
    "for idx, var in enumerate(post_df['BMI']):\n",
    "    if var != post_df2.iloc[idx]['BMI']:\n",
    "        print(idx)"
   ]
  },
  {
   "cell_type": "markdown",
   "id": "df8175fe",
   "metadata": {},
   "source": [
    "#### Realign Race/Ethnicity"
   ]
  },
  {
   "cell_type": "code",
   "execution_count": 27,
   "id": "43a3e60f",
   "metadata": {},
   "outputs": [],
   "source": [
    "post_df['Hispanic or Latino or Spanish Ethnicity_Mod'] = post_df2['Hispanic or Latino or Spanish Ethnicity_Mod']"
   ]
  },
  {
   "cell_type": "code",
   "execution_count": 28,
   "id": "ad52602c",
   "metadata": {},
   "outputs": [],
   "source": [
    "post_df['Race'] = post_df2['Race']"
   ]
  },
  {
   "cell_type": "code",
   "execution_count": 29,
   "id": "3008807d",
   "metadata": {},
   "outputs": [
    {
     "data": {
      "text/plain": [
       "White                                 3596\n",
       "Other                                  130\n",
       "Black / African American               121\n",
       "Asian                                   35\n",
       "American Indian / Alaskan Native        16\n",
       "Native Hawaiian / Pacific Islander       8\n",
       "Race - Other                             8\n",
       "Name: Race, dtype: int64"
      ]
     },
     "execution_count": 29,
     "metadata": {},
     "output_type": "execute_result"
    }
   ],
   "source": [
    "post_df['Race'].value_counts()"
   ]
  },
  {
   "cell_type": "code",
   "execution_count": 30,
   "id": "9fb201ee",
   "metadata": {},
   "outputs": [],
   "source": [
    "race_mod = []\n",
    "for race in post_df['Race']:\n",
    "    if race == 'White':\n",
    "        race_mod.append('white')\n",
    "    elif race == 'Black / African American':\n",
    "        race_mod.append('black')\n",
    "    else:\n",
    "        race_mod.append('other')\n",
    "post_df['Race_Mod'] = race_mod"
   ]
  },
  {
   "cell_type": "markdown",
   "id": "c44cb5a6",
   "metadata": {},
   "source": [
    "#### Fix Readmission Coding"
   ]
  },
  {
   "cell_type": "code",
   "execution_count": 34,
   "id": "92b8d767",
   "metadata": {},
   "outputs": [
    {
     "data": {
      "text/plain": [
       "0     3550\n",
       "1      389\n",
       "No       3\n",
       "Name: Readmission, dtype: int64"
      ]
     },
     "execution_count": 34,
     "metadata": {},
     "output_type": "execute_result"
    }
   ],
   "source": [
    "post_df['Readmission'].value_counts()"
   ]
  },
  {
   "cell_type": "code",
   "execution_count": 38,
   "id": "18db116e",
   "metadata": {},
   "outputs": [],
   "source": [
    "readmit_recoded = [1 if readmit == '1' or readmit == 1 else 0 for readmit in post_df['Readmission']]\n",
    "np.sum(readmit_recoded)"
   ]
  },
  {
   "cell_type": "code",
   "execution_count": 40,
   "id": "32013452",
   "metadata": {},
   "outputs": [],
   "source": [
    "post_df['Readmission'] = readmit_recoded"
   ]
  },
  {
   "cell_type": "code",
   "execution_count": 42,
   "id": "5a59ca8b",
   "metadata": {},
   "outputs": [],
   "source": [
    "post_df.to_csv('dlnmRev_updated/data_for_DLNMs/post_df_WITH_RACE.csv')"
   ]
  },
  {
   "cell_type": "markdown",
   "id": "45fe0b66",
   "metadata": {},
   "source": [
    "# Table 1"
   ]
  },
  {
   "cell_type": "code",
   "execution_count": 43,
   "id": "8c3430e6",
   "metadata": {},
   "outputs": [],
   "source": [
    "post_df = pd.read_csv('dlnmRev_updated/data_for_DLNMs/post_df_WITH_RACE.csv')"
   ]
  },
  {
   "cell_type": "code",
   "execution_count": 44,
   "id": "38fa4cf2",
   "metadata": {},
   "outputs": [],
   "source": [
    "season = []\n",
    "for pt_idx in post_df.index:\n",
    "    if post_df.iloc[pt_idx].disch__spring == 1:\n",
    "        season.append(0)\n",
    "    elif post_df.iloc[pt_idx].disch__summer == 1:\n",
    "        season.append(1)\n",
    "    elif post_df.iloc[pt_idx].disch__winter == 1:\n",
    "        season.append(3)\n",
    "    else:\n",
    "        season.append(2)\n",
    "\n",
    "post_df['season_agg'] = season"
   ]
  },
  {
   "cell_type": "code",
   "execution_count": 45,
   "id": "3aafba61",
   "metadata": {},
   "outputs": [],
   "source": [
    "post_90_df = post_df[post_df['mean_post_disch_mean_temp_C'] >= np.nanpercentile(post_df['mean_post_disch_mean_temp_C'],90)]\n",
    "post_10_df = post_df[post_df['mean_post_disch_mean_temp_C'] <= np.nanpercentile(post_df['mean_post_disch_mean_temp_C'],10)]\n",
    "\n",
    "post_mid_df =  post_df[post_df['mean_post_disch_mean_temp_C'] < np.nanpercentile(post_df['mean_post_disch_mean_temp_C'],90)]\n",
    "post_mid_df = post_mid_df[post_mid_df['mean_post_disch_mean_temp_C'] > np.nanpercentile(post_df['mean_post_disch_mean_temp_C'],10)]\n",
    "\n",
    "\n"
   ]
  },
  {
   "cell_type": "markdown",
   "id": "d8c01047",
   "metadata": {},
   "source": [
    "# Table 1"
   ]
  },
  {
   "cell_type": "code",
   "execution_count": 46,
   "id": "3dd391ea",
   "metadata": {},
   "outputs": [
    {
     "name": "stdout",
     "output_type": "stream",
     "text": [
      "PATIENT AGE\n"
     ]
    },
    {
     "data": {
      "image/png": "[encoded data removed]",
      "text/plain": [
       "<Figure size 432x288 with 1 Axes>"
      ]
     },
     "metadata": {
      "needs_background": "light"
     },
     "output_type": "display_data"
    },
    {
     "name": "stdout",
     "output_type": "stream",
     "text": [
      "BMI\n"
     ]
    },
    {
     "data": {
      "image/png": "[encoded data removed]",
      "text/plain": [
       "<Figure size 432x288 with 1 Axes>"
      ]
     },
     "metadata": {
      "needs_background": "light"
     },
     "output_type": "display_data"
    },
    {
     "name": "stdout",
     "output_type": "stream",
     "text": [
      "LOS\n"
     ]
    },
    {
     "data": {
      "image/png": "[encoded data removed]",
      "text/plain": [
       "<Figure size 432x288 with 1 Axes>"
      ]
     },
     "metadata": {
      "needs_background": "light"
     },
     "output_type": "display_data"
    },
    {
     "name": "stdout",
     "output_type": "stream",
     "text": [
      "TIME_TO_SURGERY\n"
     ]
    },
    {
     "data": {
      "image/png": "[encoded data removed]",
      "text/plain": [
       "<Figure size 432x288 with 1 Axes>"
      ]
     },
     "metadata": {
      "needs_background": "light"
     },
     "output_type": "display_data"
    },
    {
     "name": "stdout",
     "output_type": "stream",
     "text": [
      "TIME_FROM_SURGERY_TO_DISCHARGE\n"
     ]
    },
    {
     "data": {
      "image/png": "[encoded data removed]",
      "text/plain": [
       "<Figure size 432x288 with 1 Axes>"
      ]
     },
     "metadata": {
      "needs_background": "light"
     },
     "output_type": "display_data"
    },
    {
     "name": "stdout",
     "output_type": "stream",
     "text": [
      "RF-LAST A1C LEVEL\n"
     ]
    },
    {
     "data": {
      "image/png": "[encoded data removed]",
      "text/plain": [
       "<Figure size 432x288 with 1 Axes>"
      ]
     },
     "metadata": {
      "needs_background": "light"
     },
     "output_type": "display_data"
    },
    {
     "name": "stdout",
     "output_type": "stream",
     "text": [
      "RF-LAST HEMATOCRIT\n"
     ]
    },
    {
     "data": {
      "image/png": "[encoded data removed]",
      "text/plain": [
       "<Figure size 432x288 with 1 Axes>"
      ]
     },
     "metadata": {
      "needs_background": "light"
     },
     "output_type": "display_data"
    },
    {
     "name": "stdout",
     "output_type": "stream",
     "text": [
      "RF-LAST CREAT LEVEL\n"
     ]
    },
    {
     "data": {
      "image/png": "[encoded data removed]",
      "text/plain": [
       "<Figure size 432x288 with 1 Axes>"
      ]
     },
     "metadata": {
      "needs_background": "light"
     },
     "output_type": "display_data"
    },
    {
     "name": "stdout",
     "output_type": "stream",
     "text": [
      "RF-LAST WBC COUNT\n"
     ]
    },
    {
     "data": {
      "image/png": "[encoded data removed]",
      "text/plain": [
       "<Figure size 432x288 with 1 Axes>"
      ]
     },
     "metadata": {
      "needs_background": "light"
     },
     "output_type": "display_data"
    },
    {
     "name": "stdout",
     "output_type": "stream",
     "text": [
      "RF-PLATELETS\n"
     ]
    },
    {
     "data": {
      "image/png": "[encoded data removed]",
      "text/plain": [
       "<Figure size 432x288 with 1 Axes>"
      ]
     },
     "metadata": {
      "needs_background": "light"
     },
     "output_type": "display_data"
    },
    {
     "name": "stdout",
     "output_type": "stream",
     "text": [
      "RF-INR\n"
     ]
    },
    {
     "data": {
      "image/png": "[encoded data removed]",
      "text/plain": [
       "<Figure size 432x288 with 1 Axes>"
      ]
     },
     "metadata": {
      "needs_background": "light"
     },
     "output_type": "display_data"
    },
    {
     "name": "stdout",
     "output_type": "stream",
     "text": [
      "RF-TOTAL BILIRUBIN\n"
     ]
    },
    {
     "data": {
      "image/png": "[encoded data removed]",
      "text/plain": [
       "<Figure size 432x288 with 1 Axes>"
      ]
     },
     "metadata": {
      "needs_background": "light"
     },
     "output_type": "display_data"
    },
    {
     "name": "stdout",
     "output_type": "stream",
     "text": [
      "RF-TOTAL ALBUMIN\n"
     ]
    },
    {
     "data": {
      "image/png": "[encoded data removed]",
      "text/plain": [
       "<Figure size 432x288 with 1 Axes>"
      ]
     },
     "metadata": {
      "needs_background": "light"
     },
     "output_type": "display_data"
    },
    {
     "name": "stdout",
     "output_type": "stream",
     "text": [
      "HEMO DATA-EF\n"
     ]
    },
    {
     "data": {
      "image/png": "[encoded data removed]",
      "text/plain": [
       "<Figure size 432x288 with 1 Axes>"
      ]
     },
     "metadata": {
      "needs_background": "light"
     },
     "output_type": "display_data"
    },
    {
     "name": "stdout",
     "output_type": "stream",
     "text": [
      "OR_TIME\n"
     ]
    },
    {
     "data": {
      "image/png": "[encoded data removed]",
      "text/plain": [
       "<Figure size 432x288 with 1 Axes>"
      ]
     },
     "metadata": {
      "needs_background": "light"
     },
     "output_type": "display_data"
    },
    {
     "name": "stdout",
     "output_type": "stream",
     "text": [
      "CARDIOPULMONARY BYPASS TIME\n"
     ]
    },
    {
     "data": {
      "image/png": "[encoded data removed]",
      "text/plain": [
       "<Figure size 432x288 with 1 Axes>"
      ]
     },
     "metadata": {
      "needs_background": "light"
     },
     "output_type": "display_data"
    },
    {
     "name": "stdout",
     "output_type": "stream",
     "text": [
      "INITIAL ICU HOURS\n"
     ]
    },
    {
     "data": {
      "image/png": "[encoded data removed]",
      "text/plain": [
       "<Figure size 432x288 with 1 Axes>"
      ]
     },
     "metadata": {
      "needs_background": "light"
     },
     "output_type": "display_data"
    },
    {
     "name": "stdout",
     "output_type": "stream",
     "text": [
      "MEAN_POST_DISCH_MEAN_TEMP_C\n"
     ]
    },
    {
     "data": {
      "image/png": "[encoded data removed]",
      "text/plain": [
       "<Figure size 432x288 with 1 Axes>"
      ]
     },
     "metadata": {
      "needs_background": "light"
     },
     "output_type": "display_data"
    },
    {
     "name": "stdout",
     "output_type": "stream",
     "text": [
      "MEAN_POST_DISCH_PM10\n"
     ]
    },
    {
     "data": {
      "image/png": "[encoded data removed]",
      "text/plain": [
       "<Figure size 432x288 with 1 Axes>"
      ]
     },
     "metadata": {
      "needs_background": "light"
     },
     "output_type": "display_data"
    },
    {
     "name": "stdout",
     "output_type": "stream",
     "text": [
      "MEAN_POST_DISCH_PM25\n"
     ]
    },
    {
     "data": {
      "image/png": "[encoded data removed]",
      "text/plain": [
       "<Figure size 432x288 with 1 Axes>"
      ]
     },
     "metadata": {
      "needs_background": "light"
     },
     "output_type": "display_data"
    },
    {
     "name": "stdout",
     "output_type": "stream",
     "text": [
      "MEAN_POST_DISCH_O3\n"
     ]
    },
    {
     "data": {
      "image/png": "[encoded data removed]",
      "text/plain": [
       "<Figure size 432x288 with 1 Axes>"
      ]
     },
     "metadata": {
      "needs_background": "light"
     },
     "output_type": "display_data"
    },
    {
     "name": "stdout",
     "output_type": "stream",
     "text": [
      "MEAN_POST_DISCH_CO\n"
     ]
    },
    {
     "data": {
      "image/png": "[encoded data removed]",
      "text/plain": [
       "<Figure size 432x288 with 1 Axes>"
      ]
     },
     "metadata": {
      "needs_background": "light"
     },
     "output_type": "display_data"
    },
    {
     "name": "stdout",
     "output_type": "stream",
     "text": [
      "MEAN_POST_DISCH_NO2\n"
     ]
    },
    {
     "data": {
      "image/png": "[encoded data removed]",
      "text/plain": [
       "<Figure size 432x288 with 1 Axes>"
      ]
     },
     "metadata": {
      "needs_background": "light"
     },
     "output_type": "display_data"
    },
    {
     "name": "stdout",
     "output_type": "stream",
     "text": [
      "MEAN_POST_DISCH_SO2\n"
     ]
    },
    {
     "data": {
      "image/png": "[encoded data removed]",
      "text/plain": [
       "<Figure size 432x288 with 1 Axes>"
      ]
     },
     "metadata": {
      "needs_background": "light"
     },
     "output_type": "display_data"
    },
    {
     "name": "stdout",
     "output_type": "stream",
     "text": [
      "SEX_MOD\n"
     ]
    },
    {
     "data": {
      "image/png": "[encoded data removed]",
      "text/plain": [
       "<Figure size 432x288 with 1 Axes>"
      ]
     },
     "metadata": {
      "needs_background": "light"
     },
     "output_type": "display_data"
    },
    {
     "name": "stdout",
     "output_type": "stream",
     "text": [
      "Mean:  0.7042110603754439\n",
      "[278, 2220, 278] [283, 2210, 283]\n",
      "MEDICAID\n"
     ]
    },
    {
     "data": {
      "image/png": "[encoded data removed]",
      "text/plain": [
       "<Figure size 432x288 with 1 Axes>"
      ]
     },
     "metadata": {
      "needs_background": "light"
     },
     "output_type": "display_data"
    },
    {
     "name": "stdout",
     "output_type": "stream",
     "text": [
      "Mean:  0.11669203450025367\n",
      "[46, 368, 46] [33, 382, 45]\n",
      "STATUS_MOD\n"
     ]
    },
    {
     "data": {
      "image/png": "[encoded data removed]",
      "text/plain": [
       "<Figure size 432x288 with 1 Axes>"
      ]
     },
     "metadata": {
      "needs_background": "light"
     },
     "output_type": "display_data"
    },
    {
     "name": "stdout",
     "output_type": "stream",
     "text": [
      "Mean:  0.4972095383054287\n",
      "[196, 1567, 196] [207, 1566, 187]\n",
      "HISPANIC OR LATINO OR SPANISH ETHNICITY_MOD\n"
     ]
    },
    {
     "data": {
      "image/png": "[encoded data removed]",
      "text/plain": [
       "<Figure size 432x288 with 1 Axes>"
      ]
     },
     "metadata": {
      "needs_background": "light"
     },
     "output_type": "display_data"
    },
    {
     "name": "stdout",
     "output_type": "stream",
     "text": [
      "Mean:  0.051496702181633686\n",
      "[20, 162, 20] [19, 161, 23]\n",
      "RF-DIABETES_MODIFIED\n"
     ]
    },
    {
     "data": {
      "image/png": "[encoded data removed]",
      "text/plain": [
       "<Figure size 432x288 with 1 Axes>"
      ]
     },
     "metadata": {
      "needs_background": "light"
     },
     "output_type": "display_data"
    },
    {
     "name": "stdout",
     "output_type": "stream",
     "text": [
      "Mean:  0.4094368340943683\n",
      "[162, 1291, 162] [183, 1284, 147]\n",
      "RF-RENAL FAIL-DIALYSIS_MODIFIED\n"
     ]
    },
    {
     "data": {
      "image/png": "[encoded data removed]",
      "text/plain": [
       "<Figure size 432x288 with 1 Axes>"
      ]
     },
     "metadata": {
      "needs_background": "light"
     },
     "output_type": "display_data"
    },
    {
     "name": "stdout",
     "output_type": "stream",
     "text": [
      "Mean:  0.023090586145648313\n",
      "[9, 73, 9] [8.0, 72.0, 11.0]\n",
      "RF-PERIPHERAL ARTERIAL DISEASE_MODIFIED\n"
     ]
    },
    {
     "data": {
      "image/png": "[encoded data removed]",
      "text/plain": [
       "<Figure size 432x288 with 1 Axes>"
      ]
     },
     "metadata": {
      "needs_background": "light"
     },
     "output_type": "display_data"
    },
    {
     "name": "stdout",
     "output_type": "stream",
     "text": [
      "Mean:  0.15808170515097691\n",
      "[62, 498, 62] [56.0, 498.0, 69.0]\n",
      "RF-CEREBROVASCULAR DIS_MODIFIED\n"
     ]
    },
    {
     "data": {
      "image/png": "[encoded data removed]",
      "text/plain": [
       "<Figure size 432x288 with 1 Axes>"
      ]
     },
     "metadata": {
      "needs_background": "light"
     },
     "output_type": "display_data"
    },
    {
     "name": "stdout",
     "output_type": "stream",
     "text": [
      "Mean:  0.21537290715372906\n",
      "[85, 679, 85] [90, 668, 91]\n",
      "RF-IMMUNOCOMPROMISE_MODIFIED\n"
     ]
    },
    {
     "data": {
      "image/png": "[encoded data removed]",
      "text/plain": [
       "<Figure size 432x288 with 1 Axes>"
      ]
     },
     "metadata": {
      "needs_background": "light"
     },
     "output_type": "display_data"
    },
    {
     "name": "stdout",
     "output_type": "stream",
     "text": [
      "Mean:  0.037300177619893425\n",
      "[15, 118, 15] [10.0, 119.0, 18.0]\n",
      "RF-CHRONIC LUNG DISEASE_MOD\n"
     ]
    },
    {
     "data": {
      "image/png": "[encoded data removed]",
      "text/plain": [
       "<Figure size 432x288 with 1 Axes>"
      ]
     },
     "metadata": {
      "needs_background": "light"
     },
     "output_type": "display_data"
    },
    {
     "name": "stdout",
     "output_type": "stream",
     "text": [
      "Mean:  0.21841704718417046\n",
      "[86, 688, 86] [89, 697, 75]\n",
      "RF-HIGH ALCOHOL USE_MOD\n"
     ]
    },
    {
     "data": {
      "image/png": "[encoded data removed]",
      "text/plain": [
       "<Figure size 432x288 with 1 Axes>"
      ]
     },
     "metadata": {
      "needs_background": "light"
     },
     "output_type": "display_data"
    },
    {
     "name": "stdout",
     "output_type": "stream",
     "text": [
      "Mean:  0.09259259259259259\n",
      "[37, 292, 37] [35, 298, 32]\n",
      "RF-ILLICIT DRUG USE_MOD\n"
     ]
    },
    {
     "data": {
      "image/png": "[encoded data removed]",
      "text/plain": [
       "<Figure size 432x288 with 1 Axes>"
      ]
     },
     "metadata": {
      "needs_background": "light"
     },
     "output_type": "display_data"
    },
    {
     "name": "stdout",
     "output_type": "stream",
     "text": [
      "Mean:  0.0273972602739726\n",
      "[11, 86, 11] [9, 88, 11]\n",
      "PRIOR MI_MODIFIED\n"
     ]
    },
    {
     "data": {
      "image/png": "[encoded data removed]",
      "text/plain": [
       "<Figure size 432x288 with 1 Axes>"
      ]
     },
     "metadata": {
      "needs_background": "light"
     },
     "output_type": "display_data"
    },
    {
     "name": "stdout",
     "output_type": "stream",
     "text": [
      "Mean:  0.4698122780314561\n",
      "[186, 1481, 186] [196, 1464, 192]\n",
      "PREV CARDIAC INTERVENT_MODIFIED\n"
     ]
    },
    {
     "data": {
      "image/png": "[encoded data removed]",
      "text/plain": [
       "<Figure size 432x288 with 1 Axes>"
      ]
     },
     "metadata": {
      "needs_background": "light"
     },
     "output_type": "display_data"
    },
    {
     "name": "stdout",
     "output_type": "stream",
     "text": [
      "Mean:  0.2907153729071537\n",
      "[115, 916, 115] [122, 915, 109]\n",
      "IABP_MODIFIED\n"
     ]
    },
    {
     "data": {
      "image/png": "[encoded data removed]",
      "text/plain": [
       "<Figure size 432x288 with 1 Axes>"
      ]
     },
     "metadata": {
      "needs_background": "light"
     },
     "output_type": "display_data"
    },
    {
     "name": "stdout",
     "output_type": "stream",
     "text": [
      "Mean:  0.06773211567732115\n",
      "[27, 213, 27] [29, 207, 31]\n",
      "CARDIOGENIC SHOCK_MOD\n"
     ]
    },
    {
     "data": {
      "image/png": "[encoded data removed]",
      "text/plain": [
       "<Figure size 432x288 with 1 Axes>"
      ]
     },
     "metadata": {
      "needs_background": "light"
     },
     "output_type": "display_data"
    },
    {
     "name": "stdout",
     "output_type": "stream",
     "text": [
      "Mean:  0.020040588533739218\n",
      "[8, 63, 8] [9, 61, 9]\n",
      "CARDIAC ARRHYTHMIA_MOD\n"
     ]
    },
    {
     "data": {
      "image/png": "[encoded data removed]",
      "text/plain": [
       "<Figure size 432x288 with 1 Axes>"
      ]
     },
     "metadata": {
      "needs_background": "light"
     },
     "output_type": "display_data"
    },
    {
     "name": "stdout",
     "output_type": "stream",
     "text": [
      "Mean:  0.2207001522070015\n",
      "[87, 696, 87] [85, 707, 78]\n",
      "MV_REPAIR\n"
     ]
    },
    {
     "data": {
      "image/png": "[encoded data removed]",
      "text/plain": [
       "<Figure size 432x288 with 1 Axes>"
      ]
     },
     "metadata": {
      "needs_background": "light"
     },
     "output_type": "display_data"
    },
    {
     "name": "stdout",
     "output_type": "stream",
     "text": [
      "Mean:  0.0654490106544901\n",
      "[26, 206, 26] [19, 204, 35]\n",
      "MV_REPLACEMENT\n"
     ]
    },
    {
     "data": {
      "image/png": "[encoded data removed]",
      "text/plain": [
       "<Figure size 432x288 with 1 Axes>"
      ]
     },
     "metadata": {
      "needs_background": "light"
     },
     "output_type": "display_data"
    },
    {
     "name": "stdout",
     "output_type": "stream",
     "text": [
      "Mean:  0.0821917808219178\n",
      "[32, 259, 32] [34, 258, 32]\n",
      "CAB_MOD_MODIFIED\n"
     ]
    },
    {
     "data": {
      "image/png": "[encoded data removed]",
      "text/plain": [
       "<Figure size 432x288 with 1 Axes>"
      ]
     },
     "metadata": {
      "needs_background": "light"
     },
     "output_type": "display_data"
    },
    {
     "name": "stdout",
     "output_type": "stream",
     "text": [
      "Mean:  0.6699644850329782\n",
      "[265, 2112, 265] [257, 2124, 260]\n",
      "VS-AORTIC_MODIFIED\n"
     ]
    },
    {
     "data": {
      "image/png": "[encoded data removed]",
      "text/plain": [
       "<Figure size 432x288 with 1 Axes>"
      ]
     },
     "metadata": {
      "needs_background": "light"
     },
     "output_type": "display_data"
    },
    {
     "name": "stdout",
     "output_type": "stream",
     "text": [
      "Mean:  0.3437341451040081\n",
      "[136, 1083, 136] [148, 1080, 127]\n",
      "READMISSION TO ICU_MODIFIED\n"
     ]
    },
    {
     "data": {
      "image/png": "[encoded data removed]",
      "text/plain": [
       "<Figure size 432x288 with 1 Axes>"
      ]
     },
     "metadata": {
      "needs_background": "light"
     },
     "output_type": "display_data"
    },
    {
     "name": "stdout",
     "output_type": "stream",
     "text": [
      "Mean:  0.022577371892440384\n",
      "[9, 71, 9] [14, 63, 12]\n",
      "IN HOSPITAL POST-OP EVENTS_MODIFIED\n"
     ]
    },
    {
     "data": {
      "image/png": "[encoded data removed]",
      "text/plain": [
       "<Figure size 432x288 with 1 Axes>"
      ]
     },
     "metadata": {
      "needs_background": "light"
     },
     "output_type": "display_data"
    },
    {
     "name": "stdout",
     "output_type": "stream",
     "text": [
      "Mean:  0.5337392186707255\n",
      "[211, 1682, 211] [218, 1675, 211]\n",
      "POST-OP-REOP\n"
     ]
    },
    {
     "data": {
      "image/png": "[encoded data removed]",
      "text/plain": [
       "<Figure size 432x288 with 1 Axes>"
      ]
     },
     "metadata": {
      "needs_background": "light"
     },
     "output_type": "display_data"
    },
    {
     "name": "stdout",
     "output_type": "stream",
     "text": [
      "Mean:  0.030187721968543885\n",
      "[12, 95, 12] [10, 100, 9]\n",
      "POST-OP-PULM-PNEUMONIA_MODIFIED_MODIFIED\n"
     ]
    },
    {
     "data": {
      "image/png": "[encoded data removed]",
      "text/plain": [
       "<Figure size 432x288 with 1 Axes>"
      ]
     },
     "metadata": {
      "needs_background": "light"
     },
     "output_type": "display_data"
    },
    {
     "name": "stdout",
     "output_type": "stream",
     "text": [
      "Mean:  0.023338406900050734\n",
      "[9, 74, 9] [13, 75, 4]\n",
      "POST-OP-PULM-VENT PROLONGED_MODIFIED_MODIFIED\n"
     ]
    },
    {
     "data": {
      "image/png": "[encoded data removed]",
      "text/plain": [
       "<Figure size 432x288 with 1 Axes>"
      ]
     },
     "metadata": {
      "needs_background": "light"
     },
     "output_type": "display_data"
    },
    {
     "name": "stdout",
     "output_type": "stream",
     "text": [
      "Mean:  0.1111111111111111\n",
      "[44, 350, 44] [44, 346, 48]\n",
      "POST-OP-PULMONARY THROMBOEMBOLISM_MODIFIED_MODIFIED\n"
     ]
    },
    {
     "data": {
      "image/png": "[encoded data removed]",
      "text/plain": [
       "<Figure size 432x288 with 1 Axes>"
      ]
     },
     "metadata": {
      "needs_background": "light"
     },
     "output_type": "display_data"
    },
    {
     "name": "stdout",
     "output_type": "stream",
     "text": [
      "Mean:  0.0027904616945712835\n",
      "[1, 9, 1] [2, 7, 2]\n",
      "POSTOP INTUBATION/REINTUBATION DURING HOSPITAL STAY_MODIFIED\n"
     ]
    },
    {
     "data": {
      "image/png": "[encoded data removed]",
      "text/plain": [
       "<Figure size 432x288 with 1 Axes>"
      ]
     },
     "metadata": {
      "needs_background": "light"
     },
     "output_type": "display_data"
    },
    {
     "name": "stdout",
     "output_type": "stream",
     "text": [
      "Mean:  0.0334855403348554\n",
      "[13, 106, 13] [15, 108, 9]\n",
      "POST-OP-NEURO_STROKETIAPARAL\n"
     ]
    },
    {
     "data": {
      "image/png": "[encoded data removed]",
      "text/plain": [
       "<Figure size 432x288 with 1 Axes>"
      ]
     },
     "metadata": {
      "needs_background": "light"
     },
     "output_type": "display_data"
    },
    {
     "name": "stdout",
     "output_type": "stream",
     "text": [
      "Mean:  0.015474378488077117\n",
      "[6, 49, 6] [3, 54, 4]\n",
      "POST-OP-OTHER-CARD ARREST_MODIFIED_MODIFIED\n"
     ]
    },
    {
     "data": {
      "image/png": "[encoded data removed]",
      "text/plain": [
       "<Figure size 432x288 with 1 Axes>"
      ]
     },
     "metadata": {
      "needs_background": "light"
     },
     "output_type": "display_data"
    },
    {
     "name": "stdout",
     "output_type": "stream",
     "text": [
      "Mean:  0.011161846778285134\n",
      "[4, 35, 4] [4, 31, 9]\n",
      "POST-OP-OTHER-ANTICOAG EVENT_MODIFIED_MODIFIED\n"
     ]
    },
    {
     "data": {
      "image/png": "[encoded data removed]",
      "text/plain": [
       "<Figure size 432x288 with 1 Axes>"
      ]
     },
     "metadata": {
      "needs_background": "light"
     },
     "output_type": "display_data"
    },
    {
     "name": "stdout",
     "output_type": "stream",
     "text": [
      "Mean:  0.0045662100456621\n",
      "[2, 14, 2] [3, 13, 2]\n",
      "POST-OP-OTHER-GI EVENT_MODIFIED_MODIFIED\n"
     ]
    },
    {
     "data": {
      "image/png": "[encoded data removed]",
      "text/plain": [
       "<Figure size 432x288 with 1 Axes>"
      ]
     },
     "metadata": {
      "needs_background": "light"
     },
     "output_type": "display_data"
    },
    {
     "name": "stdout",
     "output_type": "stream",
     "text": [
      "Mean:  0.024606798579401318\n",
      "[10, 78, 10] [12, 77, 8]\n",
      "POST-OP-OTHER-MULTI SYS FAIL_MODIFIED_MODIFIED\n"
     ]
    },
    {
     "data": {
      "image/png": "[encoded data removed]",
      "text/plain": [
       "<Figure size 432x288 with 1 Axes>"
      ]
     },
     "metadata": {
      "needs_background": "light"
     },
     "output_type": "display_data"
    },
    {
     "name": "stdout",
     "output_type": "stream",
     "text": [
      "Mean:  0.00228310502283105\n",
      "[1, 7, 1] [2, 6, 1]\n",
      "POST-OP-OTHER-A FIB_MODIFIED_MODIFIED\n"
     ]
    },
    {
     "data": {
      "image/png": "[encoded data removed]",
      "text/plain": [
       "<Figure size 432x288 with 1 Axes>"
      ]
     },
     "metadata": {
      "needs_background": "light"
     },
     "output_type": "display_data"
    },
    {
     "name": "stdout",
     "output_type": "stream",
     "text": [
      "Mean:  0.35946220192795536\n",
      "[142, 1133, 142] [145, 1120, 152]\n",
      "POST-OP-RENAL-RENAL FAILURE_MODIFIED_MODIFIED\n"
     ]
    },
    {
     "data": {
      "image/png": "[encoded data removed]",
      "text/plain": [
       "<Figure size 432x288 with 1 Axes>"
      ]
     },
     "metadata": {
      "needs_background": "light"
     },
     "output_type": "display_data"
    },
    {
     "name": "stdout",
     "output_type": "stream",
     "text": [
      "Mean:  0.014205986808726534\n",
      "[6, 45, 6] [9, 40, 7]\n",
      "POST-OP-RENAL-DIALYSIS REQ_MODIFIED_MODIFIED\n"
     ]
    },
    {
     "data": {
      "image/png": "[encoded data removed]",
      "text/plain": [
       "<Figure size 432x288 with 1 Axes>"
      ]
     },
     "metadata": {
      "needs_background": "light"
     },
     "output_type": "display_data"
    },
    {
     "name": "stdout",
     "output_type": "stream",
     "text": [
      "Mean:  0.006595636732623034\n",
      "[3, 21, 3] [4, 19, 3]\n",
      "POST-OP-SEPSIS_MODIFIED_MODIFIED\n"
     ]
    },
    {
     "data": {
      "image/png": "[encoded data removed]",
      "text/plain": [
       "<Figure size 432x288 with 1 Axes>"
      ]
     },
     "metadata": {
      "needs_background": "light"
     },
     "output_type": "display_data"
    },
    {
     "name": "stdout",
     "output_type": "stream",
     "text": [
      "Mean:  0.0060882800608828\n",
      "[2, 19, 2] [2, 19, 3]\n",
      "POST-OP-SURGICAL SITE INFECTION\n"
     ]
    },
    {
     "data": {
      "image/png": "[encoded data removed]",
      "text/plain": [
       "<Figure size 432x288 with 1 Axes>"
      ]
     },
     "metadata": {
      "needs_background": "light"
     },
     "output_type": "display_data"
    },
    {
     "name": "stdout",
     "output_type": "stream",
     "text": [
      "Mean:  0.0050735667174023336\n",
      "[2, 16, 2] [3, 15, 2]\n",
      "POST-OP-DEEP STERNAL INFECTION / MEDIASTINITIS\n"
     ]
    },
    {
     "data": {
      "image/png": "[encoded data removed]",
      "text/plain": [
       "<Figure size 432x288 with 1 Axes>"
      ]
     },
     "metadata": {
      "needs_background": "light"
     },
     "output_type": "display_data"
    },
    {
     "name": "stdout",
     "output_type": "stream",
     "text": [
      "Mean:  0.0020294266869609334\n",
      "[1, 6, 1] [2, 6, 0]\n",
      "DISCHARGE_HOME\n"
     ]
    },
    {
     "data": {
      "image/png": "[encoded data removed]",
      "text/plain": [
       "<Figure size 432x288 with 1 Axes>"
      ]
     },
     "metadata": {
      "needs_background": "light"
     },
     "output_type": "display_data"
    },
    {
     "name": "stdout",
     "output_type": "stream",
     "text": [
      "Mean:  0.6430745814307458\n",
      "[254, 2027, 254] [248, 2044, 243]\n",
      "COMPOSITE_READMIT_MORT\n"
     ]
    },
    {
     "data": {
      "image/png": "[encoded data removed]",
      "text/plain": [
       "<Figure size 432x288 with 1 Axes>"
      ]
     },
     "metadata": {
      "needs_background": "light"
     },
     "output_type": "display_data"
    },
    {
     "name": "stdout",
     "output_type": "stream",
     "text": [
      "Mean:  0.09868087265347539\n",
      "[39, 311, 39] [40, 301, 48]\n"
     ]
    }
   ],
   "source": [
    "#CONTINUOUS VARS\n",
    "\n",
    "table_out = {}\n",
    "\n",
    "for var in ['Patient Age', 'BMI', 'LOS', 'Time_to_Surgery', 'Time_from_Surgery_to_Discharge',\n",
    "           'RF-Last A1c Level', 'RF-Last Hematocrit', 'RF-Last Creat Level',\n",
    "                'RF-Last WBC Count', 'RF-Platelets', 'RF-INR', 'RF-Total Bilirubin',\n",
    "                'RF-Total Albumin', 'Hemo Data-EF',\n",
    "            'OR_Time', 'Cardiopulmonary Bypass Time', #'Circulatory Arrest Time Without Cerebral Perfusion',\n",
    "           'Initial ICU Hours','mean_post_disch_mean_temp_C',\n",
    "       'mean_post_disch_PM10', 'mean_post_disch_PM25', 'mean_post_disch_O3',\n",
    "       'mean_post_disch_CO', 'mean_post_disch_NO2', 'mean_post_disch_SO2' ]:\n",
    "    print(var.upper()) \n",
    "    plt.figure()\n",
    "    post_df[var].hist()\n",
    "    plt.show()\n",
    "    \n",
    "    out_temp = []\n",
    "    out_temp.append(str(post_df[var].mean().round(2)) + '\\n(' + str(round(post_df[var].std(),2)) + ')')\n",
    "    out_temp.append(str(post_10_df[var].mean().round(2)) + '\\n(' + str(round(post_10_df[var].std(),2)) + ')')\n",
    "    out_temp.append(str(post_mid_df[var].mean().round(2)) + '\\n(' + str(round(post_mid_df[var].std(),2)) + ')')\n",
    "    out_temp.append(str(post_90_df[var].mean().round(2)) + '\\n(' + str(round(post_90_df[var].std(),2)) + ')')\n",
    "    \n",
    "    #ANOVA assumptions: independence, normality, homoscedasticity\n",
    "    if normaltest(post_10_df[var], nan_policy = 'omit')[1] > 0.05 and normaltest(post_mid_df[var], nan_policy = 'omit')[1] > 0.05 and normaltest(post_90_df[var], nan_policy = 'omit')[1] > 0.05:\n",
    "        \n",
    "        \n",
    "        #test homoscedasticity\n",
    "        # Bartlett Test: https://docs.scipy.org/doc/scipy/reference/generated/scipy.stats.bartlett.html#scipy.stats.bartlett\n",
    "        if normaltest(post_10_df[var], nan_policy = 'omit')[1] > 0.05 and bartlett(post_mid_df[var], nan_policy = 'omit')[1] > 0.05 and bartlett(post_90_df[var], nan_policy = 'omit')[1] > 0.05:\n",
    "            test = 'ANOVA'\n",
    "            pval = f_oneway(post_10_df[var], post_mid_df[var], post_90_df[var],\n",
    "                           nan_policy = 'omit')[1]\n",
    "        \n",
    "        else:\n",
    "            #Alexander Govern test https://docs.scipy.org/doc/scipy/reference/generated/scipy.stats.alexandergovern.html#scipy.stats.alexandergovern\n",
    "    \n",
    "            test = 'Alexander Govern'\n",
    "            pval = alexandergovern(post_10_df[var], post_mid_df[var], post_90_df[var],\n",
    "                                  nan_policy = 'omit')[1]\n",
    "    #if non-normal, use Kruskal-Wallis \n",
    "    else:\n",
    "        # https://docs.scipy.org/doc/scipy/reference/generated/scipy.stats.kruskal.html#scipy.stats.kruskal\n",
    "        pval = kruskal(post_10_df[var], post_mid_df[var], post_90_df[var], nan_policy = 'omit')[1]\n",
    "        test = 'Kruskal-Wallis'\n",
    "    \n",
    "    out_temp.append(round(pval,10))\n",
    "    out_temp.append(test)\n",
    "    \n",
    "    table_out[var] = out_temp\n",
    "    \n",
    "\n",
    "# BINARY VARS\n",
    "\n",
    "for var in ['Sex_Mod', 'Medicaid', 'Status_Mod', 'Hispanic or Latino or Spanish Ethnicity_Mod',\n",
    "            'RF-Diabetes_Modified', 'RF-Renal Fail-Dialysis_Modified',\n",
    "                 'RF-Peripheral Arterial Disease_Modified',\n",
    "                 'RF-Cerebrovascular Dis_Modified',\n",
    "                 'RF-Immunocompromise_Modified','RF-Chronic Lung Disease_Mod',\n",
    "                'RF-High Alcohol Use_Mod', 'RF-Illicit Drug Use_Mod', 'Prior MI_Modified', 'Prev Cardiac Intervent_Modified',\n",
    "                 'IABP_Modified', 'Cardiogenic Shock_Mod','Cardiac Arrhythmia_Mod', \n",
    "            'MV_Repair', 'MV_Replacement', 'CAB_Mod_Modified', 'VS-Aortic_Modified',\n",
    "            'Readmission to ICU_Modified',\n",
    "             'In Hospital Post-Op Events_Modified',\n",
    "            'Post-Op-ReOp',\n",
    "\n",
    "             'Post-Op-Pulm-Pneumonia_Modified_Modified',\n",
    "             'Post-Op-Pulm-Vent Prolonged_Modified_Modified',\n",
    "             'Post-Op-Pulmonary Thromboembolism_Modified_Modified',\n",
    "             'Postop Intubation/Reintubation During Hospital Stay_Modified',\n",
    "\n",
    "            'Post-Op-Neuro_StrokeTIAparal', \n",
    "             'Post-Op-Other-Card Arrest_Modified_Modified',\n",
    "             'Post-Op-Other-Anticoag Event_Modified_Modified',\n",
    "             'Post-Op-Other-GI Event_Modified_Modified',\n",
    "             'Post-Op-Other-Multi Sys Fail_Modified_Modified',\n",
    "             'Post-Op-Other-A Fib_Modified_Modified',\n",
    "            'Post-Op-Renal-Renal Failure_Modified_Modified',\n",
    "             'Post-Op-Renal-Dialysis Req_Modified_Modified',\n",
    "            'Post-Op-Sepsis_Modified_Modified',\n",
    "            'Post-Op-Surgical Site Infection',\n",
    "            'Post-Op-Deep Sternal Infection / Mediastinitis', \n",
    "            'Discharge_Home',\n",
    "             'Composite_Readmit_Mort'\n",
    "           ]:\n",
    "    print(var.upper())\n",
    "    plt.figure()\n",
    "    post_df[var].hist()\n",
    "    plt.show()\n",
    "    out_temp = []\n",
    "    \n",
    "    \n",
    "    print(\"Mean: \", post_df[var].mean())\n",
    "    out_temp.append(str(post_df[var].mean().round(2)))\n",
    "    out_temp.append(str(post_10_df[var].mean().round(2)))\n",
    "    out_temp.append(str(post_mid_df[var].mean().round(2)))\n",
    "    out_temp.append(str(post_90_df[var].mean().round(2)))\n",
    "    \n",
    "    \n",
    "    overall_mean = post_df[var].mean()\n",
    "    n_10, n_mid, n_90 = post_10_df.shape[0], post_mid_df.shape[0], post_90_df.shape[0]\n",
    "    f_exp = [round(overall_mean*n_10), round(overall_mean*n_mid), round(overall_mean*n_90)]\n",
    "    f_obs = [post_10_df[var].sum(), post_mid_df[var].sum(), post_90_df[var].sum()]\n",
    "    print(f_exp, f_obs)\n",
    "    if np.sum(f_exp) - np.sum(f_obs) == 1:\n",
    "        f_exp = [f_exp[0], f_exp[1]-1, f_exp[2]]\n",
    "    elif np.sum(f_exp) - np.sum(f_obs) == -1:\n",
    "        f_exp = [f_exp[0], f_exp[1]+1, f_exp[2]]\n",
    "    \n",
    "    if np.sum(f_exp) != np.sum(f_obs):\n",
    "        pval = np.nan\n",
    "    else:\n",
    "        pval = round(chisquare(f_obs = f_obs, f_exp = f_exp)[1],4)\n",
    "    \n",
    "    out_temp.append(pval)\n",
    "    out_temp.append('Chi-Square')\n",
    "    \n",
    "    table_out[var] = out_temp\n",
    "    \n",
    "    "
   ]
  },
  {
   "cell_type": "code",
   "execution_count": 24,
   "id": "a699a8e5",
   "metadata": {},
   "outputs": [],
   "source": []
  },
  {
   "cell_type": "code",
   "execution_count": 25,
   "id": "eb876c48",
   "metadata": {},
   "outputs": [],
   "source": []
  },
  {
   "cell_type": "code",
   "execution_count": 55,
   "id": "c680779d",
   "metadata": {},
   "outputs": [
    {
     "name": "stdout",
     "output_type": "stream",
     "text": [
      "CLASSIFICATION-NYHA_MOD\n"
     ]
    },
    {
     "data": {
      "image/png": "[encoded data removed]",
      "text/plain": [
       "<Figure size 432x288 with 1 Axes>"
      ]
     },
     "metadata": {
      "needs_background": "light"
     },
     "output_type": "display_data"
    },
    {
     "name": "stdout",
     "output_type": "stream",
     "text": [
      "Full DF: \n",
      " 0    0.575596\n",
      "2    0.208524\n",
      "1    0.130644\n",
      "3    0.085236\n",
      "Name: Classification-NYHA_Mod, dtype: float64\n",
      "\n",
      "10th Percentile\n",
      "Mean:  0    0.551899\n",
      "2    0.243038\n",
      "3    0.108861\n",
      "1    0.096203\n",
      "Name: Classification-NYHA_Mod, dtype: float64\n",
      "\n",
      "11-89th Percentile\n",
      "Mean:  0    0.575508\n",
      "2    0.204632\n",
      "1    0.133883\n",
      "3    0.085977\n",
      "Name: Classification-NYHA_Mod, dtype: float64\n",
      "\n",
      "90th Percentile\n",
      "Mean:  0    0.600000\n",
      "2    0.205063\n",
      "1    0.139241\n",
      "3    0.055696\n",
      "Name: Classification-NYHA_Mod, dtype: float64\n",
      "0    0.575596\n",
      "1    0.130644\n",
      "2    0.208524\n",
      "3    0.085236\n",
      "Name: Classification-NYHA_Mod, dtype: float64\n",
      "[[227, 52, 82, 34], [1814, 412, 657, 269], [227, 52, 82, 34]]\n",
      "[[218, 38, 96, 43], [1814, 422, 645, 271], [237, 55, 81, 22]]\n",
      "Power_divergenceResult(statistic=array([8.89865581, 0.47676642, 4.8610948 ]), pvalue=array([0.0306691 , 0.92396526, 0.18225565]))\n",
      "RACE_MOD\n"
     ]
    },
    {
     "data": {
      "image/png": "[encoded data removed]",
      "text/plain": [
       "<Figure size 432x288 with 1 Axes>"
      ]
     },
     "metadata": {
      "needs_background": "light"
     },
     "output_type": "display_data"
    },
    {
     "name": "stdout",
     "output_type": "stream",
     "text": [
      "Full DF: \n",
      " white    0.912227\n",
      "other    0.057078\n",
      "black    0.030695\n",
      "Name: Race_Mod, dtype: float64\n",
      "\n",
      "10th Percentile\n",
      "Mean:  white    0.921519\n",
      "other    0.050633\n",
      "black    0.027848\n",
      "Name: Race_Mod, dtype: float64\n",
      "\n",
      "11-89th Percentile\n",
      "Mean:  white    0.912437\n",
      "other    0.055838\n",
      "black    0.031726\n",
      "Name: Race_Mod, dtype: float64\n",
      "\n",
      "90th Percentile\n",
      "Mean:  white    0.901266\n",
      "other    0.073418\n",
      "black    0.025316\n",
      "Name: Race_Mod, dtype: float64\n",
      "black    0.030695\n",
      "other    0.057078\n",
      "white    0.912227\n",
      "Name: Race_Mod, dtype: float64\n",
      "[[12, 23, 360], [97, 180, 2875], [12, 23, 360]]\n",
      "[[11, 20, 364], [100, 176, 2876], [10, 29, 356]]\n",
      "Power_divergenceResult(statistic=array([0.51908213, 0.18202022, 1.94299517]), pvalue=array([0.77140553, 0.91300848, 0.37851575]))\n",
      "HF_MOD_MOD\n"
     ]
    },
    {
     "data": {
      "image/png": "[encoded data removed]",
      "text/plain": [
       "<Figure size 432x288 with 1 Axes>"
      ]
     },
     "metadata": {
      "needs_background": "light"
     },
     "output_type": "display_data"
    },
    {
     "name": "stdout",
     "output_type": "stream",
     "text": [
      "Full DF: \n",
      " 0    0.498478\n",
      "2    0.418569\n",
      "1    0.082953\n",
      "Name: HF_Mod_Mod, dtype: float64\n",
      "\n",
      "10th Percentile\n",
      "Mean:  0    0.478481\n",
      "2    0.430380\n",
      "1    0.091139\n",
      "Name: HF_Mod_Mod, dtype: float64\n",
      "\n",
      "11-89th Percentile\n",
      "Mean:  0    0.499365\n",
      "2    0.420051\n",
      "1    0.080584\n",
      "Name: HF_Mod_Mod, dtype: float64\n",
      "\n",
      "90th Percentile\n",
      "Mean:  0    0.511392\n",
      "2    0.394937\n",
      "1    0.093671\n",
      "Name: HF_Mod_Mod, dtype: float64\n",
      "0    0.498478\n",
      "1    0.082953\n",
      "2    0.418569\n",
      "Name: HF_Mod_Mod, dtype: float64\n",
      "[[197, 33, 165], [1571, 261, 1319], [197, 33, 165]]\n",
      "[[189, 36, 170], [1574, 254, 1324], [202, 37, 156]]\n",
      "1\n"
     ]
    },
    {
     "ename": "ValueError",
     "evalue": "For each axis slice, the sum of the observed frequencies must agree with the sum of the expected frequencies to a relative tolerance of 1e-08, but the percent differences are:\n[0.         0.00031736 0.        ]",
     "output_type": "error",
     "traceback": [
      "\u001b[0;31m---------------------------------------------------------------------------\u001b[0m",
      "\u001b[0;31mValueError\u001b[0m                                Traceback (most recent call last)",
      "Input \u001b[0;32mIn [55]\u001b[0m, in \u001b[0;36m<cell line: 6>\u001b[0;34m()\u001b[0m\n\u001b[1;32m     38\u001b[0m     \u001b[38;5;28;01mif\u001b[39;00m np\u001b[38;5;241m.\u001b[39msum(val) \u001b[38;5;241m!=\u001b[39m np\u001b[38;5;241m.\u001b[39msum(f_obs[idx]):\n\u001b[1;32m     39\u001b[0m         \u001b[38;5;28mprint\u001b[39m(idx)\n\u001b[0;32m---> 42\u001b[0m pval \u001b[38;5;241m=\u001b[39m \u001b[43mchisquare\u001b[49m\u001b[43m(\u001b[49m\u001b[43mf_obs\u001b[49m\u001b[43m \u001b[49m\u001b[38;5;241;43m=\u001b[39;49m\u001b[43m \u001b[49m\u001b[43mf_obs\u001b[49m\u001b[43m,\u001b[49m\u001b[43m \u001b[49m\u001b[43mf_exp\u001b[49m\u001b[43m \u001b[49m\u001b[38;5;241;43m=\u001b[39;49m\u001b[43m \u001b[49m\u001b[43mf_exp\u001b[49m\u001b[43m,\u001b[49m\u001b[43m \u001b[49m\u001b[43maxis\u001b[49m\u001b[43m \u001b[49m\u001b[38;5;241;43m=\u001b[39;49m\u001b[43m \u001b[49m\u001b[38;5;241;43m1\u001b[39;49m\u001b[43m)\u001b[49m\n\u001b[1;32m     43\u001b[0m \u001b[38;5;28mprint\u001b[39m(pval)\n",
      "File \u001b[0;32m~/anaconda3/lib/python3.10/site-packages/scipy/stats/_stats_py.py:7553\u001b[0m, in \u001b[0;36mchisquare\u001b[0;34m(f_obs, f_exp, ddof, axis)\u001b[0m\n\u001b[1;32m   7428\u001b[0m \u001b[38;5;28;01mdef\u001b[39;00m \u001b[38;5;21mchisquare\u001b[39m(f_obs, f_exp\u001b[38;5;241m=\u001b[39m\u001b[38;5;28;01mNone\u001b[39;00m, ddof\u001b[38;5;241m=\u001b[39m\u001b[38;5;241m0\u001b[39m, axis\u001b[38;5;241m=\u001b[39m\u001b[38;5;241m0\u001b[39m):\n\u001b[1;32m   7429\u001b[0m     \u001b[38;5;124;03m\"\"\"Calculate a one-way chi-square test.\u001b[39;00m\n\u001b[1;32m   7430\u001b[0m \n\u001b[1;32m   7431\u001b[0m \u001b[38;5;124;03m    The chi-square test tests the null hypothesis that the categorical data\u001b[39;00m\n\u001b[0;32m   (...)\u001b[0m\n\u001b[1;32m   7551\u001b[0m \n\u001b[1;32m   7552\u001b[0m \u001b[38;5;124;03m    \"\"\"\u001b[39;00m\n\u001b[0;32m-> 7553\u001b[0m     \u001b[38;5;28;01mreturn\u001b[39;00m \u001b[43mpower_divergence\u001b[49m\u001b[43m(\u001b[49m\u001b[43mf_obs\u001b[49m\u001b[43m,\u001b[49m\u001b[43m \u001b[49m\u001b[43mf_exp\u001b[49m\u001b[38;5;241;43m=\u001b[39;49m\u001b[43mf_exp\u001b[49m\u001b[43m,\u001b[49m\u001b[43m \u001b[49m\u001b[43mddof\u001b[49m\u001b[38;5;241;43m=\u001b[39;49m\u001b[43mddof\u001b[49m\u001b[43m,\u001b[49m\u001b[43m \u001b[49m\u001b[43maxis\u001b[49m\u001b[38;5;241;43m=\u001b[39;49m\u001b[43maxis\u001b[49m\u001b[43m,\u001b[49m\n\u001b[1;32m   7554\u001b[0m \u001b[43m                            \u001b[49m\u001b[43mlambda_\u001b[49m\u001b[38;5;241;43m=\u001b[39;49m\u001b[38;5;124;43m\"\u001b[39;49m\u001b[38;5;124;43mpearson\u001b[39;49m\u001b[38;5;124;43m\"\u001b[39;49m\u001b[43m)\u001b[49m\n",
      "File \u001b[0;32m~/anaconda3/lib/python3.10/site-packages/scipy/stats/_stats_py.py:7394\u001b[0m, in \u001b[0;36mpower_divergence\u001b[0;34m(f_obs, f_exp, ddof, axis, lambda_)\u001b[0m\n\u001b[1;32m   7388\u001b[0m     \u001b[38;5;28;01mif\u001b[39;00m diff_gt_tol:\n\u001b[1;32m   7389\u001b[0m         msg \u001b[38;5;241m=\u001b[39m (\u001b[38;5;124mf\u001b[39m\u001b[38;5;124m\"\u001b[39m\u001b[38;5;124mFor each axis slice, the sum of the observed \u001b[39m\u001b[38;5;124m\"\u001b[39m\n\u001b[1;32m   7390\u001b[0m                \u001b[38;5;124mf\u001b[39m\u001b[38;5;124m\"\u001b[39m\u001b[38;5;124mfrequencies must agree with the sum of the \u001b[39m\u001b[38;5;124m\"\u001b[39m\n\u001b[1;32m   7391\u001b[0m                \u001b[38;5;124mf\u001b[39m\u001b[38;5;124m\"\u001b[39m\u001b[38;5;124mexpected frequencies to a relative tolerance \u001b[39m\u001b[38;5;124m\"\u001b[39m\n\u001b[1;32m   7392\u001b[0m                \u001b[38;5;124mf\u001b[39m\u001b[38;5;124m\"\u001b[39m\u001b[38;5;124mof \u001b[39m\u001b[38;5;132;01m{\u001b[39;00mrtol\u001b[38;5;132;01m}\u001b[39;00m\u001b[38;5;124m, but the percent differences are:\u001b[39m\u001b[38;5;130;01m\\n\u001b[39;00m\u001b[38;5;124m\"\u001b[39m\n\u001b[1;32m   7393\u001b[0m                \u001b[38;5;124mf\u001b[39m\u001b[38;5;124m\"\u001b[39m\u001b[38;5;132;01m{\u001b[39;00mrelative_diff\u001b[38;5;132;01m}\u001b[39;00m\u001b[38;5;124m\"\u001b[39m)\n\u001b[0;32m-> 7394\u001b[0m         \u001b[38;5;28;01mraise\u001b[39;00m \u001b[38;5;167;01mValueError\u001b[39;00m(msg)\n\u001b[1;32m   7396\u001b[0m \u001b[38;5;28;01melse\u001b[39;00m:\n\u001b[1;32m   7397\u001b[0m     \u001b[38;5;66;03m# Ignore 'invalid' errors so the edge case of a data set with length 0\u001b[39;00m\n\u001b[1;32m   7398\u001b[0m     \u001b[38;5;66;03m# is handled without spurious warnings.\u001b[39;00m\n\u001b[1;32m   7399\u001b[0m     \u001b[38;5;28;01mwith\u001b[39;00m np\u001b[38;5;241m.\u001b[39merrstate(invalid\u001b[38;5;241m=\u001b[39m\u001b[38;5;124m'\u001b[39m\u001b[38;5;124mignore\u001b[39m\u001b[38;5;124m'\u001b[39m):\n",
      "\u001b[0;31mValueError\u001b[0m: For each axis slice, the sum of the observed frequencies must agree with the sum of the expected frequencies to a relative tolerance of 1e-08, but the percent differences are:\n[0.         0.00031736 0.        ]"
     ]
    }
   ],
   "source": [
    "#HF_Mod_Mod: 1 = chronic no acute, 2 = acute exacerb, 0 = none\n",
    "\n",
    "    \n",
    "#MULTI_CATEGORY VARS\n",
    "\n",
    "for var in ['Classification-NYHA_Mod','Race_Mod', 'HF_Mod_Mod']:\n",
    "    print(var.upper())\n",
    "    plt.figure()\n",
    "    post_df[var].hist()\n",
    "    plt.show()\n",
    "    print(\"Full DF: \\n\", post_df[var].value_counts()/post_df.shape[0])\n",
    "    #print(\"Std: \", post_df[var].std())\n",
    "    print()\n",
    "    print(\"10th Percentile\")\n",
    "    print(\"Mean: \", post_10_df[var].value_counts()/post_10_df.shape[0])\n",
    "    #print(\"Std: \", post_10_df[var].std())\n",
    "    print()\n",
    "    print(\"11-89th Percentile\")\n",
    "    print(\"Mean: \", post_mid_df[var].value_counts()/post_mid_df.shape[0])\n",
    "    #print(\"Std: \", post_mid_df[var].std())\n",
    "    print(\"\\n90th Percentile\")\n",
    "    print(\"Mean: \", post_90_df[var].value_counts()/post_90_df.shape[0])\n",
    "    \n",
    "    f_exp_percs = post_df[var].value_counts().sort_index()/post_df.shape[0]\n",
    "    print(f_exp_percs)\n",
    "    n_10, n_mid, n_90 = post_10_df.shape[0], post_mid_df.shape[0], post_90_df.shape[0]\n",
    "    f_exp = [[round(n_10*f) for f in f_exp_percs],\n",
    "              [round(n_mid*f) for f in f_exp_percs],\n",
    "              [round(n_90*f) for f in f_exp_percs]]\n",
    "    f_obs = [post_10_df[var].value_counts().sort_index().tolist(), \n",
    "             post_mid_df[var].value_counts().sort_index().tolist(), \n",
    "             post_90_df[var].value_counts().sort_index().tolist()]\n",
    "    \n",
    "    print(f_exp)\n",
    "    print(f_obs)\n",
    "    \n",
    "    for idx, val in enumerate(f_exp):\n",
    "        if np.sum(val) != np.sum(f_obs[idx]):\n",
    "            print(idx)\n",
    "    \n",
    "    \n",
    "    pval = chisquare(f_obs = f_obs, f_exp = f_exp, axis = 1)\n",
    "    print(pval)\n",
    "    "
   ]
  },
  {
   "cell_type": "code",
   "execution_count": 73,
   "id": "b57acc1b",
   "metadata": {},
   "outputs": [
    {
     "data": {
      "text/plain": [
       "['0.59\\n(0.27)',\n",
       " '0.65\\n(0.26)',\n",
       " '0.59\\n(0.28)',\n",
       " '0.5\\n(0.26)',\n",
       " 0.0,\n",
       " 'Kruskal-Wallis']"
      ]
     },
     "execution_count": 73,
     "metadata": {},
     "output_type": "execute_result"
    }
   ],
   "source": [
    "table_out['mean_post_disch_CO']"
   ]
  },
  {
   "cell_type": "code",
   "execution_count": 36,
   "id": "4282cbe7",
   "metadata": {},
   "outputs": [
    {
     "data": {
      "text/plain": [
       "[[218, 38, 96, 43], [1814, 422, 645, 271], [237, 55, 81, 22]]"
      ]
     },
     "execution_count": 36,
     "metadata": {},
     "output_type": "execute_result"
    }
   ],
   "source": [
    "f_obs"
   ]
  },
  {
   "cell_type": "code",
   "execution_count": 34,
   "id": "f2868149",
   "metadata": {},
   "outputs": [
    {
     "data": {
      "text/plain": [
       "0    2269\n",
       "2     822\n",
       "1     515\n",
       "3     336\n",
       "Name: Classification-NYHA_Mod, dtype: int64"
      ]
     },
     "execution_count": 34,
     "metadata": {},
     "output_type": "execute_result"
    }
   ],
   "source": [
    "post_df['Classification-NYHA_Mod'].value_counts()"
   ]
  },
  {
   "cell_type": "code",
   "execution_count": 256,
   "id": "5f995301",
   "metadata": {},
   "outputs": [
    {
     "data": {
      "text/plain": [
       "3151"
      ]
     },
     "execution_count": 256,
     "metadata": {},
     "output_type": "execute_result"
    }
   ],
   "source": [
    "np.sum([1571, 261, 1319])"
   ]
  },
  {
   "cell_type": "code",
   "execution_count": 260,
   "id": "28bfc691",
   "metadata": {},
   "outputs": [
    {
     "data": {
      "text/plain": [
       "Power_divergenceResult(statistic=array([0.45750548, 0.94531522, 0.65455464]), pvalue=array([0.79552521, 0.62334346, 0.7208838 ]))"
      ]
     },
     "execution_count": 260,
     "metadata": {},
     "output_type": "execute_result"
    }
   ],
   "source": [
    "#manual fiddling to fix rounding error for HF_Mod_Mod\n",
    "chisquare(f_obs = [[189, 36, 170], [1574, 254, 1323], [202, 37, 156]],\n",
    "          f_exp = [[197, 33, 165], [1571, 261, 1319], [197, 33, 165]])"
   ]
  },
  {
   "cell_type": "code",
   "execution_count": 242,
   "id": "9f5c7eb0",
   "metadata": {},
   "outputs": [
    {
     "data": {
      "text/plain": [
       "3152"
      ]
     },
     "execution_count": 242,
     "metadata": {},
     "output_type": "execute_result"
    }
   ],
   "source": [
    "1574+254+1324"
   ]
  },
  {
   "cell_type": "code",
   "execution_count": null,
   "id": "27b9116d",
   "metadata": {},
   "outputs": [],
   "source": []
  },
  {
   "cell_type": "code",
   "execution_count": 70,
   "id": "6c51a832",
   "metadata": {},
   "outputs": [],
   "source": [
    "tab1_df = pd.DataFrame(table_out).T\n",
    "tab1_df.columns = ['Overall', '10th Temp', '10th-90th Temp', '90th Temp', 'p-val', 'test']\n",
    "tab1_df.to_excel('Jan24_Paper/Table1_Jan2024_PostTEMPS.xlsx')"
   ]
  },
  {
   "cell_type": "code",
   "execution_count": 266,
   "id": "6e090bce",
   "metadata": {},
   "outputs": [
    {
     "data": {
      "text/html": [
       "<div>\n",
       "<style scoped>\n",
       "    .dataframe tbody tr th:only-of-type {\n",
       "        vertical-align: middle;\n",
       "    }\n",
       "\n",
       "    .dataframe tbody tr th {\n",
       "        vertical-align: top;\n",
       "    }\n",
       "\n",
       "    .dataframe thead th {\n",
       "        text-align: right;\n",
       "    }\n",
       "</style>\n",
       "<table border=\"1\" class=\"dataframe\">\n",
       "  <thead>\n",
       "    <tr style=\"text-align: right;\">\n",
       "      <th></th>\n",
       "      <th>Overall</th>\n",
       "      <th>10th Temp</th>\n",
       "      <th>10th-90th Temp</th>\n",
       "      <th>90th Temp</th>\n",
       "      <th>p-val</th>\n",
       "      <th>test</th>\n",
       "    </tr>\n",
       "  </thead>\n",
       "  <tbody>\n",
       "    <tr>\n",
       "      <th>Patient Age</th>\n",
       "      <td>68.05\\n(11.16)</td>\n",
       "      <td>68.24\\n(10.83)</td>\n",
       "      <td>68.07\\n(11.07)</td>\n",
       "      <td>67.7\\n(12.17)</td>\n",
       "      <td>0.9276</td>\n",
       "      <td>Kruskal-Wallis</td>\n",
       "    </tr>\n",
       "    <tr>\n",
       "      <th>BMI</th>\n",
       "      <td>29.62\\n(5.86)</td>\n",
       "      <td>29.82\\n(6.06)</td>\n",
       "      <td>29.61\\n(5.82)</td>\n",
       "      <td>29.52\\n(6.02)</td>\n",
       "      <td>0.7295</td>\n",
       "      <td>Kruskal-Wallis</td>\n",
       "    </tr>\n",
       "    <tr>\n",
       "      <th>LOS</th>\n",
       "      <td>10.82\\n(7.78)</td>\n",
       "      <td>12.53\\n(10.72)</td>\n",
       "      <td>10.6\\n(7.23)</td>\n",
       "      <td>10.82\\n(8.26)</td>\n",
       "      <td>0.0018</td>\n",
       "      <td>Kruskal-Wallis</td>\n",
       "    </tr>\n",
       "    <tr>\n",
       "      <th>Time_to_Surgery</th>\n",
       "      <td>2.13\\n(3.7)</td>\n",
       "      <td>2.54\\n(4.23)</td>\n",
       "      <td>2.07\\n(3.6)</td>\n",
       "      <td>2.12\\n(3.93)</td>\n",
       "      <td>0.0283</td>\n",
       "      <td>Kruskal-Wallis</td>\n",
       "    </tr>\n",
       "    <tr>\n",
       "      <th>Time_from_Surgery_to_Discharge</th>\n",
       "      <td>8.69\\n(6.24)</td>\n",
       "      <td>9.99\\n(8.99)</td>\n",
       "      <td>8.53\\n(5.72)</td>\n",
       "      <td>8.7\\n(6.74)</td>\n",
       "      <td>0.0133</td>\n",
       "      <td>Kruskal-Wallis</td>\n",
       "    </tr>\n",
       "    <tr>\n",
       "      <th>RF-Last A1c Level</th>\n",
       "      <td>6.43\\n(1.42)</td>\n",
       "      <td>6.56\\n(1.47)</td>\n",
       "      <td>6.43\\n(1.43)</td>\n",
       "      <td>6.33\\n(1.25)</td>\n",
       "      <td>0.0701</td>\n",
       "      <td>Kruskal-Wallis</td>\n",
       "    </tr>\n",
       "    <tr>\n",
       "      <th>RF-Last Hematocrit</th>\n",
       "      <td>38.51\\n(5.71)</td>\n",
       "      <td>38.25\\n(6.06)</td>\n",
       "      <td>38.51\\n(5.66)</td>\n",
       "      <td>38.77\\n(5.76)</td>\n",
       "      <td>0.6369</td>\n",
       "      <td>Kruskal-Wallis</td>\n",
       "    </tr>\n",
       "    <tr>\n",
       "      <th>RF-Last Creat Level</th>\n",
       "      <td>1.15\\n(1.0)</td>\n",
       "      <td>1.13\\n(0.87)</td>\n",
       "      <td>1.14\\n(0.98)</td>\n",
       "      <td>1.24\\n(1.28)</td>\n",
       "      <td>0.0571</td>\n",
       "      <td>Kruskal-Wallis</td>\n",
       "    </tr>\n",
       "    <tr>\n",
       "      <th>RF-Last WBC Count</th>\n",
       "      <td>7.87\\n(3.15)</td>\n",
       "      <td>7.88\\n(2.55)</td>\n",
       "      <td>7.87\\n(2.86)</td>\n",
       "      <td>7.84\\n(5.22)</td>\n",
       "      <td>0.2033</td>\n",
       "      <td>Kruskal-Wallis</td>\n",
       "    </tr>\n",
       "    <tr>\n",
       "      <th>RF-Platelets</th>\n",
       "      <td>209374.28\\n(67863.35)</td>\n",
       "      <td>213070.89\\n(70081.42)</td>\n",
       "      <td>209268.4\\n(68097.67)</td>\n",
       "      <td>206512.69\\n(63603.98)</td>\n",
       "      <td>0.5507</td>\n",
       "      <td>Kruskal-Wallis</td>\n",
       "    </tr>\n",
       "    <tr>\n",
       "      <th>RF-INR</th>\n",
       "      <td>1.15\\n(0.38)</td>\n",
       "      <td>1.14\\n(0.34)</td>\n",
       "      <td>1.15\\n(0.4)</td>\n",
       "      <td>1.13\\n(0.28)</td>\n",
       "      <td>0.582</td>\n",
       "      <td>Kruskal-Wallis</td>\n",
       "    </tr>\n",
       "    <tr>\n",
       "      <th>RF-Total Bilirubin</th>\n",
       "      <td>0.71\\n(0.4)</td>\n",
       "      <td>0.76\\n(0.45)</td>\n",
       "      <td>0.71\\n(0.39)</td>\n",
       "      <td>0.71\\n(0.37)</td>\n",
       "      <td>0.598</td>\n",
       "      <td>Kruskal-Wallis</td>\n",
       "    </tr>\n",
       "    <tr>\n",
       "      <th>RF-Total Albumin</th>\n",
       "      <td>3.87\\n(0.55)</td>\n",
       "      <td>3.72\\n(0.59)</td>\n",
       "      <td>3.89\\n(0.54)</td>\n",
       "      <td>3.84\\n(0.56)</td>\n",
       "      <td>0.0</td>\n",
       "      <td>Kruskal-Wallis</td>\n",
       "    </tr>\n",
       "    <tr>\n",
       "      <th>Hemo Data-EF</th>\n",
       "      <td>54.25\\n(11.91)</td>\n",
       "      <td>52.9\\n(12.56)</td>\n",
       "      <td>54.45\\n(11.9)</td>\n",
       "      <td>54.08\\n(11.27)</td>\n",
       "      <td>0.069</td>\n",
       "      <td>Kruskal-Wallis</td>\n",
       "    </tr>\n",
       "    <tr>\n",
       "      <th>OR_Time</th>\n",
       "      <td>305.18\\n(77.25)</td>\n",
       "      <td>307.45\\n(76.48)</td>\n",
       "      <td>305.53\\n(77.73)</td>\n",
       "      <td>300.06\\n(74.07)</td>\n",
       "      <td>0.3363</td>\n",
       "      <td>Kruskal-Wallis</td>\n",
       "    </tr>\n",
       "    <tr>\n",
       "      <th>Cardiopulmonary Bypass Time</th>\n",
       "      <td>119.15\\n(49.27)</td>\n",
       "      <td>120.55\\n(51.23)</td>\n",
       "      <td>119.47\\n(49.16)</td>\n",
       "      <td>115.17\\n(48.05)</td>\n",
       "      <td>0.1666</td>\n",
       "      <td>Kruskal-Wallis</td>\n",
       "    </tr>\n",
       "    <tr>\n",
       "      <th>Initial ICU Hours</th>\n",
       "      <td>100.05\\n(118.89)</td>\n",
       "      <td>113.24\\n(152.57)</td>\n",
       "      <td>97.64\\n(111.15)</td>\n",
       "      <td>106.12\\n(138.02)</td>\n",
       "      <td>0.1873</td>\n",
       "      <td>Kruskal-Wallis</td>\n",
       "    </tr>\n",
       "    <tr>\n",
       "      <th>Sex_Mod</th>\n",
       "      <td>0.7</td>\n",
       "      <td>0.72</td>\n",
       "      <td>0.7</td>\n",
       "      <td>0.72</td>\n",
       "      <td>0.8936</td>\n",
       "      <td>Chi-Square</td>\n",
       "    </tr>\n",
       "    <tr>\n",
       "      <th>Medicaid</th>\n",
       "      <td>0.12</td>\n",
       "      <td>0.08</td>\n",
       "      <td>0.12</td>\n",
       "      <td>0.11</td>\n",
       "      <td>0.1207</td>\n",
       "      <td>Chi-Square</td>\n",
       "    </tr>\n",
       "    <tr>\n",
       "      <th>Status_Mod</th>\n",
       "      <td>0.5</td>\n",
       "      <td>0.52</td>\n",
       "      <td>0.5</td>\n",
       "      <td>0.47</td>\n",
       "      <td>0.5966</td>\n",
       "      <td>Chi-Square</td>\n",
       "    </tr>\n",
       "    <tr>\n",
       "      <th>Hispanic or Latino or Spanish Ethnicity_Mod</th>\n",
       "      <td>0.05</td>\n",
       "      <td>0.05</td>\n",
       "      <td>0.05</td>\n",
       "      <td>0.06</td>\n",
       "      <td>0.7693</td>\n",
       "      <td>Chi-Square</td>\n",
       "    </tr>\n",
       "    <tr>\n",
       "      <th>RF-Diabetes_Modified</th>\n",
       "      <td>0.41</td>\n",
       "      <td>0.46</td>\n",
       "      <td>0.41</td>\n",
       "      <td>0.37</td>\n",
       "      <td>0.1262</td>\n",
       "      <td>Chi-Square</td>\n",
       "    </tr>\n",
       "    <tr>\n",
       "      <th>RF-Renal Fail-Dialysis_Modified</th>\n",
       "      <td>0.02</td>\n",
       "      <td>0.02</td>\n",
       "      <td>0.02</td>\n",
       "      <td>0.03</td>\n",
       "      <td>0.7523</td>\n",
       "      <td>Chi-Square</td>\n",
       "    </tr>\n",
       "    <tr>\n",
       "      <th>RF-Peripheral Arterial Disease_Modified</th>\n",
       "      <td>0.16</td>\n",
       "      <td>0.14</td>\n",
       "      <td>0.16</td>\n",
       "      <td>0.17</td>\n",
       "      <td>0.5033</td>\n",
       "      <td>Chi-Square</td>\n",
       "    </tr>\n",
       "    <tr>\n",
       "      <th>RF-Cerebrovascular Dis_Modified</th>\n",
       "      <td>0.22</td>\n",
       "      <td>0.23</td>\n",
       "      <td>0.21</td>\n",
       "      <td>0.23</td>\n",
       "      <td>0.639</td>\n",
       "      <td>Chi-Square</td>\n",
       "    </tr>\n",
       "    <tr>\n",
       "      <th>RF-Immunocompromise_Modified</th>\n",
       "      <td>0.04</td>\n",
       "      <td>0.03</td>\n",
       "      <td>0.04</td>\n",
       "      <td>0.05</td>\n",
       "      <td>0.3165</td>\n",
       "      <td>Chi-Square</td>\n",
       "    </tr>\n",
       "    <tr>\n",
       "      <th>RF-Chronic Lung Disease_Mod</th>\n",
       "      <td>0.22</td>\n",
       "      <td>0.23</td>\n",
       "      <td>0.22</td>\n",
       "      <td>0.19</td>\n",
       "      <td>0.4483</td>\n",
       "      <td>Chi-Square</td>\n",
       "    </tr>\n",
       "    <tr>\n",
       "      <th>RF-High Alcohol Use_Mod</th>\n",
       "      <td>0.09</td>\n",
       "      <td>0.09</td>\n",
       "      <td>0.09</td>\n",
       "      <td>0.08</td>\n",
       "      <td>0.6212</td>\n",
       "      <td>Chi-Square</td>\n",
       "    </tr>\n",
       "    <tr>\n",
       "      <th>RF-Illicit Drug Use_Mod</th>\n",
       "      <td>0.03</td>\n",
       "      <td>0.02</td>\n",
       "      <td>0.03</td>\n",
       "      <td>0.03</td>\n",
       "      <td>0.8146</td>\n",
       "      <td>Chi-Square</td>\n",
       "    </tr>\n",
       "    <tr>\n",
       "      <th>Prior MI_Modified</th>\n",
       "      <td>0.47</td>\n",
       "      <td>0.5</td>\n",
       "      <td>0.46</td>\n",
       "      <td>0.49</td>\n",
       "      <td>0.6363</td>\n",
       "      <td>Chi-Square</td>\n",
       "    </tr>\n",
       "    <tr>\n",
       "      <th>Prev Cardiac Intervent_Modified</th>\n",
       "      <td>0.29</td>\n",
       "      <td>0.31</td>\n",
       "      <td>0.29</td>\n",
       "      <td>0.28</td>\n",
       "      <td>0.6907</td>\n",
       "      <td>Chi-Square</td>\n",
       "    </tr>\n",
       "    <tr>\n",
       "      <th>IABP_Modified</th>\n",
       "      <td>0.07</td>\n",
       "      <td>0.07</td>\n",
       "      <td>0.07</td>\n",
       "      <td>0.08</td>\n",
       "      <td>0.6345</td>\n",
       "      <td>Chi-Square</td>\n",
       "    </tr>\n",
       "    <tr>\n",
       "      <th>HF_Mod_Mod</th>\n",
       "      <td>0.92</td>\n",
       "      <td>0.95</td>\n",
       "      <td>0.92</td>\n",
       "      <td>0.88</td>\n",
       "      <td>0.6048</td>\n",
       "      <td>Chi-Square</td>\n",
       "    </tr>\n",
       "    <tr>\n",
       "      <th>Cardiogenic Shock_Mod</th>\n",
       "      <td>0.02</td>\n",
       "      <td>0.02</td>\n",
       "      <td>0.02</td>\n",
       "      <td>0.02</td>\n",
       "      <td>0.8549</td>\n",
       "      <td>Chi-Square</td>\n",
       "    </tr>\n",
       "    <tr>\n",
       "      <th>Cardiac Arrhythmia_Mod</th>\n",
       "      <td>0.22</td>\n",
       "      <td>0.22</td>\n",
       "      <td>0.22</td>\n",
       "      <td>0.2</td>\n",
       "      <td>0.5625</td>\n",
       "      <td>Chi-Square</td>\n",
       "    </tr>\n",
       "    <tr>\n",
       "      <th>MV_Repair</th>\n",
       "      <td>0.07</td>\n",
       "      <td>0.05</td>\n",
       "      <td>0.06</td>\n",
       "      <td>0.09</td>\n",
       "      <td>0.0813</td>\n",
       "      <td>Chi-Square</td>\n",
       "    </tr>\n",
       "    <tr>\n",
       "      <th>MV_Replacement</th>\n",
       "      <td>0.08</td>\n",
       "      <td>0.09</td>\n",
       "      <td>0.08</td>\n",
       "      <td>0.08</td>\n",
       "      <td>0.9322</td>\n",
       "      <td>Chi-Square</td>\n",
       "    </tr>\n",
       "    <tr>\n",
       "      <th>CAB_Mod_Modified</th>\n",
       "      <td>0.67</td>\n",
       "      <td>0.65</td>\n",
       "      <td>0.67</td>\n",
       "      <td>0.66</td>\n",
       "      <td>0.8122</td>\n",
       "      <td>Chi-Square</td>\n",
       "    </tr>\n",
       "    <tr>\n",
       "      <th>VS-Aortic_Modified</th>\n",
       "      <td>0.34</td>\n",
       "      <td>0.37</td>\n",
       "      <td>0.34</td>\n",
       "      <td>0.32</td>\n",
       "      <td>0.4355</td>\n",
       "      <td>Chi-Square</td>\n",
       "    </tr>\n",
       "    <tr>\n",
       "      <th>Readmission to ICU_Modified</th>\n",
       "      <td>0.02</td>\n",
       "      <td>0.04</td>\n",
       "      <td>0.02</td>\n",
       "      <td>0.03</td>\n",
       "      <td>0.0964</td>\n",
       "      <td>Chi-Square</td>\n",
       "    </tr>\n",
       "    <tr>\n",
       "      <th>In Hospital Post-Op Events_Modified</th>\n",
       "      <td>0.53</td>\n",
       "      <td>0.55</td>\n",
       "      <td>0.53</td>\n",
       "      <td>0.53</td>\n",
       "      <td>0.8775</td>\n",
       "      <td>Chi-Square</td>\n",
       "    </tr>\n",
       "    <tr>\n",
       "      <th>Post-Op-ReOp</th>\n",
       "      <td>0.03</td>\n",
       "      <td>0.03</td>\n",
       "      <td>0.03</td>\n",
       "      <td>0.02</td>\n",
       "      <td>0.5101</td>\n",
       "      <td>Chi-Square</td>\n",
       "    </tr>\n",
       "    <tr>\n",
       "      <th>Post-Op-Pulm-Pneumonia_Modified_Modified</th>\n",
       "      <td>0.02</td>\n",
       "      <td>0.03</td>\n",
       "      <td>0.02</td>\n",
       "      <td>0.01</td>\n",
       "      <td>0.1018</td>\n",
       "      <td>Chi-Square</td>\n",
       "    </tr>\n",
       "    <tr>\n",
       "      <th>Post-Op-Pulm-Vent Prolonged_Modified_Modified</th>\n",
       "      <td>0.11</td>\n",
       "      <td>0.11</td>\n",
       "      <td>0.11</td>\n",
       "      <td>0.12</td>\n",
       "      <td>0.8149</td>\n",
       "      <td>Chi-Square</td>\n",
       "    </tr>\n",
       "    <tr>\n",
       "      <th>Post-Op-Pulmonary Thromboembolism_Modified_Modified</th>\n",
       "      <td>0.0</td>\n",
       "      <td>0.01</td>\n",
       "      <td>0.0</td>\n",
       "      <td>0.01</td>\n",
       "      <td>0.2946</td>\n",
       "      <td>Chi-Square</td>\n",
       "    </tr>\n",
       "    <tr>\n",
       "      <th>Postop Intubation/Reintubation During Hospital Stay_Modified</th>\n",
       "      <td>0.03</td>\n",
       "      <td>0.04</td>\n",
       "      <td>0.03</td>\n",
       "      <td>0.02</td>\n",
       "      <td>0.4547</td>\n",
       "      <td>Chi-Square</td>\n",
       "    </tr>\n",
       "    <tr>\n",
       "      <th>Post-Op-Neuro_StrokeTIAparal</th>\n",
       "      <td>0.02</td>\n",
       "      <td>0.01</td>\n",
       "      <td>0.02</td>\n",
       "      <td>0.01</td>\n",
       "      <td>0.2623</td>\n",
       "      <td>Chi-Square</td>\n",
       "    </tr>\n",
       "    <tr>\n",
       "      <th>Post-Op-Other-Card Arrest_Modified_Modified</th>\n",
       "      <td>0.01</td>\n",
       "      <td>0.01</td>\n",
       "      <td>0.01</td>\n",
       "      <td>0.02</td>\n",
       "      <td>0.031</td>\n",
       "      <td>Chi-Square</td>\n",
       "    </tr>\n",
       "    <tr>\n",
       "      <th>Post-Op-Other-Anticoag Event_Modified_Modified</th>\n",
       "      <td>0.0</td>\n",
       "      <td>0.01</td>\n",
       "      <td>0.0</td>\n",
       "      <td>0.01</td>\n",
       "      <td>0.7515</td>\n",
       "      <td>Chi-Square</td>\n",
       "    </tr>\n",
       "    <tr>\n",
       "      <th>Post-Op-Other-GI Event_Modified_Modified</th>\n",
       "      <td>0.02</td>\n",
       "      <td>0.03</td>\n",
       "      <td>0.02</td>\n",
       "      <td>0.02</td>\n",
       "      <td>0.6703</td>\n",
       "      <td>Chi-Square</td>\n",
       "    </tr>\n",
       "    <tr>\n",
       "      <th>Post-Op-Other-Multi Sys Fail_Modified_Modified</th>\n",
       "      <td>0.0</td>\n",
       "      <td>0.01</td>\n",
       "      <td>0.0</td>\n",
       "      <td>0.0</td>\n",
       "      <td>0.5647</td>\n",
       "      <td>Chi-Square</td>\n",
       "    </tr>\n",
       "    <tr>\n",
       "      <th>Post-Op-Other-A Fib_Modified_Modified</th>\n",
       "      <td>0.36</td>\n",
       "      <td>0.37</td>\n",
       "      <td>0.36</td>\n",
       "      <td>0.38</td>\n",
       "      <td>0.6323</td>\n",
       "      <td>Chi-Square</td>\n",
       "    </tr>\n",
       "    <tr>\n",
       "      <th>Post-Op-Renal-Renal Failure_Modified_Modified</th>\n",
       "      <td>0.01</td>\n",
       "      <td>0.02</td>\n",
       "      <td>0.01</td>\n",
       "      <td>0.02</td>\n",
       "      <td>0.3623</td>\n",
       "      <td>Chi-Square</td>\n",
       "    </tr>\n",
       "    <tr>\n",
       "      <th>Post-Op-Renal-Dialysis Req_Modified_Modified</th>\n",
       "      <td>0.01</td>\n",
       "      <td>0.01</td>\n",
       "      <td>0.01</td>\n",
       "      <td>0.01</td>\n",
       "      <td>0.8256</td>\n",
       "      <td>Chi-Square</td>\n",
       "    </tr>\n",
       "    <tr>\n",
       "      <th>Post-Op-Sepsis_Modified_Modified</th>\n",
       "      <td>0.01</td>\n",
       "      <td>0.01</td>\n",
       "      <td>0.01</td>\n",
       "      <td>0.01</td>\n",
       "      <td>0.7596</td>\n",
       "      <td>Chi-Square</td>\n",
       "    </tr>\n",
       "    <tr>\n",
       "      <th>Post-Op-Surgical Site Infection</th>\n",
       "      <td>0.01</td>\n",
       "      <td>0.01</td>\n",
       "      <td>0.0</td>\n",
       "      <td>0.01</td>\n",
       "      <td>0.7548</td>\n",
       "      <td>Chi-Square</td>\n",
       "    </tr>\n",
       "    <tr>\n",
       "      <th>Post-Op-Deep Sternal Infection / Mediastinitis</th>\n",
       "      <td>0.0</td>\n",
       "      <td>0.01</td>\n",
       "      <td>0.0</td>\n",
       "      <td>0.0</td>\n",
       "      <td>0.3679</td>\n",
       "      <td>Chi-Square</td>\n",
       "    </tr>\n",
       "    <tr>\n",
       "      <th>Discharge_Home</th>\n",
       "      <td>0.64</td>\n",
       "      <td>0.63</td>\n",
       "      <td>0.65</td>\n",
       "      <td>0.62</td>\n",
       "      <td>0.6836</td>\n",
       "      <td>Chi-Square</td>\n",
       "    </tr>\n",
       "    <tr>\n",
       "      <th>Composite_Readmit_Mort</th>\n",
       "      <td>0.1</td>\n",
       "      <td>0.1</td>\n",
       "      <td>0.1</td>\n",
       "      <td>0.12</td>\n",
       "      <td>0.2976</td>\n",
       "      <td>Chi-Square</td>\n",
       "    </tr>\n",
       "  </tbody>\n",
       "</table>\n",
       "</div>"
      ],
      "text/plain": [
       "                                                                  Overall  \\\n",
       "Patient Age                                                68.05\\n(11.16)   \n",
       "BMI                                                         29.62\\n(5.86)   \n",
       "LOS                                                         10.82\\n(7.78)   \n",
       "Time_to_Surgery                                               2.13\\n(3.7)   \n",
       "Time_from_Surgery_to_Discharge                               8.69\\n(6.24)   \n",
       "RF-Last A1c Level                                            6.43\\n(1.42)   \n",
       "RF-Last Hematocrit                                          38.51\\n(5.71)   \n",
       "RF-Last Creat Level                                           1.15\\n(1.0)   \n",
       "RF-Last WBC Count                                            7.87\\n(3.15)   \n",
       "RF-Platelets                                        209374.28\\n(67863.35)   \n",
       "RF-INR                                                       1.15\\n(0.38)   \n",
       "RF-Total Bilirubin                                            0.71\\n(0.4)   \n",
       "RF-Total Albumin                                             3.87\\n(0.55)   \n",
       "Hemo Data-EF                                               54.25\\n(11.91)   \n",
       "OR_Time                                                   305.18\\n(77.25)   \n",
       "Cardiopulmonary Bypass Time                               119.15\\n(49.27)   \n",
       "Initial ICU Hours                                        100.05\\n(118.89)   \n",
       "Sex_Mod                                                               0.7   \n",
       "Medicaid                                                             0.12   \n",
       "Status_Mod                                                            0.5   \n",
       "Hispanic or Latino or Spanish Ethnicity_Mod                          0.05   \n",
       "RF-Diabetes_Modified                                                 0.41   \n",
       "RF-Renal Fail-Dialysis_Modified                                      0.02   \n",
       "RF-Peripheral Arterial Disease_Modified                              0.16   \n",
       "RF-Cerebrovascular Dis_Modified                                      0.22   \n",
       "RF-Immunocompromise_Modified                                         0.04   \n",
       "RF-Chronic Lung Disease_Mod                                          0.22   \n",
       "RF-High Alcohol Use_Mod                                              0.09   \n",
       "RF-Illicit Drug Use_Mod                                              0.03   \n",
       "Prior MI_Modified                                                    0.47   \n",
       "Prev Cardiac Intervent_Modified                                      0.29   \n",
       "IABP_Modified                                                        0.07   \n",
       "HF_Mod_Mod                                                           0.92   \n",
       "Cardiogenic Shock_Mod                                                0.02   \n",
       "Cardiac Arrhythmia_Mod                                               0.22   \n",
       "MV_Repair                                                            0.07   \n",
       "MV_Replacement                                                       0.08   \n",
       "CAB_Mod_Modified                                                     0.67   \n",
       "VS-Aortic_Modified                                                   0.34   \n",
       "Readmission to ICU_Modified                                          0.02   \n",
       "In Hospital Post-Op Events_Modified                                  0.53   \n",
       "Post-Op-ReOp                                                         0.03   \n",
       "Post-Op-Pulm-Pneumonia_Modified_Modified                             0.02   \n",
       "Post-Op-Pulm-Vent Prolonged_Modified_Modified                        0.11   \n",
       "Post-Op-Pulmonary Thromboembolism_Modified_Modi...                    0.0   \n",
       "Postop Intubation/Reintubation During Hospital ...                   0.03   \n",
       "Post-Op-Neuro_StrokeTIAparal                                         0.02   \n",
       "Post-Op-Other-Card Arrest_Modified_Modified                          0.01   \n",
       "Post-Op-Other-Anticoag Event_Modified_Modified                        0.0   \n",
       "Post-Op-Other-GI Event_Modified_Modified                             0.02   \n",
       "Post-Op-Other-Multi Sys Fail_Modified_Modified                        0.0   \n",
       "Post-Op-Other-A Fib_Modified_Modified                                0.36   \n",
       "Post-Op-Renal-Renal Failure_Modified_Modified                        0.01   \n",
       "Post-Op-Renal-Dialysis Req_Modified_Modified                         0.01   \n",
       "Post-Op-Sepsis_Modified_Modified                                     0.01   \n",
       "Post-Op-Surgical Site Infection                                      0.01   \n",
       "Post-Op-Deep Sternal Infection / Mediastinitis                        0.0   \n",
       "Discharge_Home                                                       0.64   \n",
       "Composite_Readmit_Mort                                                0.1   \n",
       "\n",
       "                                                                10th Temp  \\\n",
       "Patient Age                                                68.24\\n(10.83)   \n",
       "BMI                                                         29.82\\n(6.06)   \n",
       "LOS                                                        12.53\\n(10.72)   \n",
       "Time_to_Surgery                                              2.54\\n(4.23)   \n",
       "Time_from_Surgery_to_Discharge                               9.99\\n(8.99)   \n",
       "RF-Last A1c Level                                            6.56\\n(1.47)   \n",
       "RF-Last Hematocrit                                          38.25\\n(6.06)   \n",
       "RF-Last Creat Level                                          1.13\\n(0.87)   \n",
       "RF-Last WBC Count                                            7.88\\n(2.55)   \n",
       "RF-Platelets                                        213070.89\\n(70081.42)   \n",
       "RF-INR                                                       1.14\\n(0.34)   \n",
       "RF-Total Bilirubin                                           0.76\\n(0.45)   \n",
       "RF-Total Albumin                                             3.72\\n(0.59)   \n",
       "Hemo Data-EF                                                52.9\\n(12.56)   \n",
       "OR_Time                                                   307.45\\n(76.48)   \n",
       "Cardiopulmonary Bypass Time                               120.55\\n(51.23)   \n",
       "Initial ICU Hours                                        113.24\\n(152.57)   \n",
       "Sex_Mod                                                              0.72   \n",
       "Medicaid                                                             0.08   \n",
       "Status_Mod                                                           0.52   \n",
       "Hispanic or Latino or Spanish Ethnicity_Mod                          0.05   \n",
       "RF-Diabetes_Modified                                                 0.46   \n",
       "RF-Renal Fail-Dialysis_Modified                                      0.02   \n",
       "RF-Peripheral Arterial Disease_Modified                              0.14   \n",
       "RF-Cerebrovascular Dis_Modified                                      0.23   \n",
       "RF-Immunocompromise_Modified                                         0.03   \n",
       "RF-Chronic Lung Disease_Mod                                          0.23   \n",
       "RF-High Alcohol Use_Mod                                              0.09   \n",
       "RF-Illicit Drug Use_Mod                                              0.02   \n",
       "Prior MI_Modified                                                     0.5   \n",
       "Prev Cardiac Intervent_Modified                                      0.31   \n",
       "IABP_Modified                                                        0.07   \n",
       "HF_Mod_Mod                                                           0.95   \n",
       "Cardiogenic Shock_Mod                                                0.02   \n",
       "Cardiac Arrhythmia_Mod                                               0.22   \n",
       "MV_Repair                                                            0.05   \n",
       "MV_Replacement                                                       0.09   \n",
       "CAB_Mod_Modified                                                     0.65   \n",
       "VS-Aortic_Modified                                                   0.37   \n",
       "Readmission to ICU_Modified                                          0.04   \n",
       "In Hospital Post-Op Events_Modified                                  0.55   \n",
       "Post-Op-ReOp                                                         0.03   \n",
       "Post-Op-Pulm-Pneumonia_Modified_Modified                             0.03   \n",
       "Post-Op-Pulm-Vent Prolonged_Modified_Modified                        0.11   \n",
       "Post-Op-Pulmonary Thromboembolism_Modified_Modi...                   0.01   \n",
       "Postop Intubation/Reintubation During Hospital ...                   0.04   \n",
       "Post-Op-Neuro_StrokeTIAparal                                         0.01   \n",
       "Post-Op-Other-Card Arrest_Modified_Modified                          0.01   \n",
       "Post-Op-Other-Anticoag Event_Modified_Modified                       0.01   \n",
       "Post-Op-Other-GI Event_Modified_Modified                             0.03   \n",
       "Post-Op-Other-Multi Sys Fail_Modified_Modified                       0.01   \n",
       "Post-Op-Other-A Fib_Modified_Modified                                0.37   \n",
       "Post-Op-Renal-Renal Failure_Modified_Modified                        0.02   \n",
       "Post-Op-Renal-Dialysis Req_Modified_Modified                         0.01   \n",
       "Post-Op-Sepsis_Modified_Modified                                     0.01   \n",
       "Post-Op-Surgical Site Infection                                      0.01   \n",
       "Post-Op-Deep Sternal Infection / Mediastinitis                       0.01   \n",
       "Discharge_Home                                                       0.63   \n",
       "Composite_Readmit_Mort                                                0.1   \n",
       "\n",
       "                                                          10th-90th Temp  \\\n",
       "Patient Age                                               68.07\\n(11.07)   \n",
       "BMI                                                        29.61\\n(5.82)   \n",
       "LOS                                                         10.6\\n(7.23)   \n",
       "Time_to_Surgery                                              2.07\\n(3.6)   \n",
       "Time_from_Surgery_to_Discharge                              8.53\\n(5.72)   \n",
       "RF-Last A1c Level                                           6.43\\n(1.43)   \n",
       "RF-Last Hematocrit                                         38.51\\n(5.66)   \n",
       "RF-Last Creat Level                                         1.14\\n(0.98)   \n",
       "RF-Last WBC Count                                           7.87\\n(2.86)   \n",
       "RF-Platelets                                        209268.4\\n(68097.67)   \n",
       "RF-INR                                                       1.15\\n(0.4)   \n",
       "RF-Total Bilirubin                                          0.71\\n(0.39)   \n",
       "RF-Total Albumin                                            3.89\\n(0.54)   \n",
       "Hemo Data-EF                                               54.45\\n(11.9)   \n",
       "OR_Time                                                  305.53\\n(77.73)   \n",
       "Cardiopulmonary Bypass Time                              119.47\\n(49.16)   \n",
       "Initial ICU Hours                                        97.64\\n(111.15)   \n",
       "Sex_Mod                                                              0.7   \n",
       "Medicaid                                                            0.12   \n",
       "Status_Mod                                                           0.5   \n",
       "Hispanic or Latino or Spanish Ethnicity_Mod                         0.05   \n",
       "RF-Diabetes_Modified                                                0.41   \n",
       "RF-Renal Fail-Dialysis_Modified                                     0.02   \n",
       "RF-Peripheral Arterial Disease_Modified                             0.16   \n",
       "RF-Cerebrovascular Dis_Modified                                     0.21   \n",
       "RF-Immunocompromise_Modified                                        0.04   \n",
       "RF-Chronic Lung Disease_Mod                                         0.22   \n",
       "RF-High Alcohol Use_Mod                                             0.09   \n",
       "RF-Illicit Drug Use_Mod                                             0.03   \n",
       "Prior MI_Modified                                                   0.46   \n",
       "Prev Cardiac Intervent_Modified                                     0.29   \n",
       "IABP_Modified                                                       0.07   \n",
       "HF_Mod_Mod                                                          0.92   \n",
       "Cardiogenic Shock_Mod                                               0.02   \n",
       "Cardiac Arrhythmia_Mod                                              0.22   \n",
       "MV_Repair                                                           0.06   \n",
       "MV_Replacement                                                      0.08   \n",
       "CAB_Mod_Modified                                                    0.67   \n",
       "VS-Aortic_Modified                                                  0.34   \n",
       "Readmission to ICU_Modified                                         0.02   \n",
       "In Hospital Post-Op Events_Modified                                 0.53   \n",
       "Post-Op-ReOp                                                        0.03   \n",
       "Post-Op-Pulm-Pneumonia_Modified_Modified                            0.02   \n",
       "Post-Op-Pulm-Vent Prolonged_Modified_Modified                       0.11   \n",
       "Post-Op-Pulmonary Thromboembolism_Modified_Modi...                   0.0   \n",
       "Postop Intubation/Reintubation During Hospital ...                  0.03   \n",
       "Post-Op-Neuro_StrokeTIAparal                                        0.02   \n",
       "Post-Op-Other-Card Arrest_Modified_Modified                         0.01   \n",
       "Post-Op-Other-Anticoag Event_Modified_Modified                       0.0   \n",
       "Post-Op-Other-GI Event_Modified_Modified                            0.02   \n",
       "Post-Op-Other-Multi Sys Fail_Modified_Modified                       0.0   \n",
       "Post-Op-Other-A Fib_Modified_Modified                               0.36   \n",
       "Post-Op-Renal-Renal Failure_Modified_Modified                       0.01   \n",
       "Post-Op-Renal-Dialysis Req_Modified_Modified                        0.01   \n",
       "Post-Op-Sepsis_Modified_Modified                                    0.01   \n",
       "Post-Op-Surgical Site Infection                                      0.0   \n",
       "Post-Op-Deep Sternal Infection / Mediastinitis                       0.0   \n",
       "Discharge_Home                                                      0.65   \n",
       "Composite_Readmit_Mort                                               0.1   \n",
       "\n",
       "                                                                90th Temp  \\\n",
       "Patient Age                                                 67.7\\n(12.17)   \n",
       "BMI                                                         29.52\\n(6.02)   \n",
       "LOS                                                         10.82\\n(8.26)   \n",
       "Time_to_Surgery                                              2.12\\n(3.93)   \n",
       "Time_from_Surgery_to_Discharge                                8.7\\n(6.74)   \n",
       "RF-Last A1c Level                                            6.33\\n(1.25)   \n",
       "RF-Last Hematocrit                                          38.77\\n(5.76)   \n",
       "RF-Last Creat Level                                          1.24\\n(1.28)   \n",
       "RF-Last WBC Count                                            7.84\\n(5.22)   \n",
       "RF-Platelets                                        206512.69\\n(63603.98)   \n",
       "RF-INR                                                       1.13\\n(0.28)   \n",
       "RF-Total Bilirubin                                           0.71\\n(0.37)   \n",
       "RF-Total Albumin                                             3.84\\n(0.56)   \n",
       "Hemo Data-EF                                               54.08\\n(11.27)   \n",
       "OR_Time                                                   300.06\\n(74.07)   \n",
       "Cardiopulmonary Bypass Time                               115.17\\n(48.05)   \n",
       "Initial ICU Hours                                        106.12\\n(138.02)   \n",
       "Sex_Mod                                                              0.72   \n",
       "Medicaid                                                             0.11   \n",
       "Status_Mod                                                           0.47   \n",
       "Hispanic or Latino or Spanish Ethnicity_Mod                          0.06   \n",
       "RF-Diabetes_Modified                                                 0.37   \n",
       "RF-Renal Fail-Dialysis_Modified                                      0.03   \n",
       "RF-Peripheral Arterial Disease_Modified                              0.17   \n",
       "RF-Cerebrovascular Dis_Modified                                      0.23   \n",
       "RF-Immunocompromise_Modified                                         0.05   \n",
       "RF-Chronic Lung Disease_Mod                                          0.19   \n",
       "RF-High Alcohol Use_Mod                                              0.08   \n",
       "RF-Illicit Drug Use_Mod                                              0.03   \n",
       "Prior MI_Modified                                                    0.49   \n",
       "Prev Cardiac Intervent_Modified                                      0.28   \n",
       "IABP_Modified                                                        0.08   \n",
       "HF_Mod_Mod                                                           0.88   \n",
       "Cardiogenic Shock_Mod                                                0.02   \n",
       "Cardiac Arrhythmia_Mod                                                0.2   \n",
       "MV_Repair                                                            0.09   \n",
       "MV_Replacement                                                       0.08   \n",
       "CAB_Mod_Modified                                                     0.66   \n",
       "VS-Aortic_Modified                                                   0.32   \n",
       "Readmission to ICU_Modified                                          0.03   \n",
       "In Hospital Post-Op Events_Modified                                  0.53   \n",
       "Post-Op-ReOp                                                         0.02   \n",
       "Post-Op-Pulm-Pneumonia_Modified_Modified                             0.01   \n",
       "Post-Op-Pulm-Vent Prolonged_Modified_Modified                        0.12   \n",
       "Post-Op-Pulmonary Thromboembolism_Modified_Modi...                   0.01   \n",
       "Postop Intubation/Reintubation During Hospital ...                   0.02   \n",
       "Post-Op-Neuro_StrokeTIAparal                                         0.01   \n",
       "Post-Op-Other-Card Arrest_Modified_Modified                          0.02   \n",
       "Post-Op-Other-Anticoag Event_Modified_Modified                       0.01   \n",
       "Post-Op-Other-GI Event_Modified_Modified                             0.02   \n",
       "Post-Op-Other-Multi Sys Fail_Modified_Modified                        0.0   \n",
       "Post-Op-Other-A Fib_Modified_Modified                                0.38   \n",
       "Post-Op-Renal-Renal Failure_Modified_Modified                        0.02   \n",
       "Post-Op-Renal-Dialysis Req_Modified_Modified                         0.01   \n",
       "Post-Op-Sepsis_Modified_Modified                                     0.01   \n",
       "Post-Op-Surgical Site Infection                                      0.01   \n",
       "Post-Op-Deep Sternal Infection / Mediastinitis                        0.0   \n",
       "Discharge_Home                                                       0.62   \n",
       "Composite_Readmit_Mort                                               0.12   \n",
       "\n",
       "                                                     p-val            test  \n",
       "Patient Age                                         0.9276  Kruskal-Wallis  \n",
       "BMI                                                 0.7295  Kruskal-Wallis  \n",
       "LOS                                                 0.0018  Kruskal-Wallis  \n",
       "Time_to_Surgery                                     0.0283  Kruskal-Wallis  \n",
       "Time_from_Surgery_to_Discharge                      0.0133  Kruskal-Wallis  \n",
       "RF-Last A1c Level                                   0.0701  Kruskal-Wallis  \n",
       "RF-Last Hematocrit                                  0.6369  Kruskal-Wallis  \n",
       "RF-Last Creat Level                                 0.0571  Kruskal-Wallis  \n",
       "RF-Last WBC Count                                   0.2033  Kruskal-Wallis  \n",
       "RF-Platelets                                        0.5507  Kruskal-Wallis  \n",
       "RF-INR                                               0.582  Kruskal-Wallis  \n",
       "RF-Total Bilirubin                                   0.598  Kruskal-Wallis  \n",
       "RF-Total Albumin                                       0.0  Kruskal-Wallis  \n",
       "Hemo Data-EF                                         0.069  Kruskal-Wallis  \n",
       "OR_Time                                             0.3363  Kruskal-Wallis  \n",
       "Cardiopulmonary Bypass Time                         0.1666  Kruskal-Wallis  \n",
       "Initial ICU Hours                                   0.1873  Kruskal-Wallis  \n",
       "Sex_Mod                                             0.8936      Chi-Square  \n",
       "Medicaid                                            0.1207      Chi-Square  \n",
       "Status_Mod                                          0.5966      Chi-Square  \n",
       "Hispanic or Latino or Spanish Ethnicity_Mod         0.7693      Chi-Square  \n",
       "RF-Diabetes_Modified                                0.1262      Chi-Square  \n",
       "RF-Renal Fail-Dialysis_Modified                     0.7523      Chi-Square  \n",
       "RF-Peripheral Arterial Disease_Modified             0.5033      Chi-Square  \n",
       "RF-Cerebrovascular Dis_Modified                      0.639      Chi-Square  \n",
       "RF-Immunocompromise_Modified                        0.3165      Chi-Square  \n",
       "RF-Chronic Lung Disease_Mod                         0.4483      Chi-Square  \n",
       "RF-High Alcohol Use_Mod                             0.6212      Chi-Square  \n",
       "RF-Illicit Drug Use_Mod                             0.8146      Chi-Square  \n",
       "Prior MI_Modified                                   0.6363      Chi-Square  \n",
       "Prev Cardiac Intervent_Modified                     0.6907      Chi-Square  \n",
       "IABP_Modified                                       0.6345      Chi-Square  \n",
       "HF_Mod_Mod                                          0.6048      Chi-Square  \n",
       "Cardiogenic Shock_Mod                               0.8549      Chi-Square  \n",
       "Cardiac Arrhythmia_Mod                              0.5625      Chi-Square  \n",
       "MV_Repair                                           0.0813      Chi-Square  \n",
       "MV_Replacement                                      0.9322      Chi-Square  \n",
       "CAB_Mod_Modified                                    0.8122      Chi-Square  \n",
       "VS-Aortic_Modified                                  0.4355      Chi-Square  \n",
       "Readmission to ICU_Modified                         0.0964      Chi-Square  \n",
       "In Hospital Post-Op Events_Modified                 0.8775      Chi-Square  \n",
       "Post-Op-ReOp                                        0.5101      Chi-Square  \n",
       "Post-Op-Pulm-Pneumonia_Modified_Modified            0.1018      Chi-Square  \n",
       "Post-Op-Pulm-Vent Prolonged_Modified_Modified       0.8149      Chi-Square  \n",
       "Post-Op-Pulmonary Thromboembolism_Modified_Modi...  0.2946      Chi-Square  \n",
       "Postop Intubation/Reintubation During Hospital ...  0.4547      Chi-Square  \n",
       "Post-Op-Neuro_StrokeTIAparal                        0.2623      Chi-Square  \n",
       "Post-Op-Other-Card Arrest_Modified_Modified          0.031      Chi-Square  \n",
       "Post-Op-Other-Anticoag Event_Modified_Modified      0.7515      Chi-Square  \n",
       "Post-Op-Other-GI Event_Modified_Modified            0.6703      Chi-Square  \n",
       "Post-Op-Other-Multi Sys Fail_Modified_Modified      0.5647      Chi-Square  \n",
       "Post-Op-Other-A Fib_Modified_Modified               0.6323      Chi-Square  \n",
       "Post-Op-Renal-Renal Failure_Modified_Modified       0.3623      Chi-Square  \n",
       "Post-Op-Renal-Dialysis Req_Modified_Modified        0.8256      Chi-Square  \n",
       "Post-Op-Sepsis_Modified_Modified                    0.7596      Chi-Square  \n",
       "Post-Op-Surgical Site Infection                     0.7548      Chi-Square  \n",
       "Post-Op-Deep Sternal Infection / Mediastinitis      0.3679      Chi-Square  \n",
       "Discharge_Home                                      0.6836      Chi-Square  \n",
       "Composite_Readmit_Mort                              0.2976      Chi-Square  "
      ]
     },
     "execution_count": 266,
     "metadata": {},
     "output_type": "execute_result"
    }
   ],
   "source": [
    "tab1_df"
   ]
  },
  {
   "cell_type": "code",
   "execution_count": 238,
   "id": "049c937b",
   "metadata": {},
   "outputs": [
    {
     "data": {
      "text/plain": [
       "0       0\n",
       "1       0\n",
       "2       2\n",
       "3       0\n",
       "4       2\n",
       "       ..\n",
       "3937    0\n",
       "3938    0\n",
       "3939    0\n",
       "3940    0\n",
       "3941    2\n",
       "Name: HF_Mod_Mod, Length: 3942, dtype: int64"
      ]
     },
     "execution_count": 238,
     "metadata": {},
     "output_type": "execute_result"
    }
   ],
   "source": [
    "post_df['HF_Mod_Mod']"
   ]
  },
  {
   "cell_type": "code",
   "execution_count": 269,
   "id": "cd553eca",
   "metadata": {},
   "outputs": [
    {
     "data": {
      "text/plain": [
       "<Axes: >"
      ]
     },
     "execution_count": 269,
     "metadata": {},
     "output_type": "execute_result"
    },
    {
     "data": {
      "image/png": "[encoded data removed]",
      "text/plain": [
       "<Figure size 432x288 with 1 Axes>"
      ]
     },
     "metadata": {
      "needs_background": "light"
     },
     "output_type": "display_data"
    }
   ],
   "source": [
    "post_df['RF-Total Albumin'].hist()"
   ]
  },
  {
   "cell_type": "code",
   "execution_count": 270,
   "id": "4cd7ed42",
   "metadata": {},
   "outputs": [
    {
     "data": {
      "text/plain": [
       "1.4694955990848889e-05"
      ]
     },
     "execution_count": 270,
     "metadata": {},
     "output_type": "execute_result"
    }
   ],
   "source": [
    "var = 'RF-Total Albumin'\n",
    "kruskal(post_10_df[var], post_mid_df[var], post_90_df[var], nan_policy = 'omit')[1]"
   ]
  },
  {
   "cell_type": "markdown",
   "id": "23f6fd34",
   "metadata": {},
   "source": [
    "# Table 2- Readmitted Patient Characteristics"
   ]
  },
  {
   "cell_type": "code",
   "execution_count": 58,
   "id": "ad6a6861",
   "metadata": {},
   "outputs": [
    {
     "data": {
      "text/plain": [
       "(389, 495)"
      ]
     },
     "execution_count": 58,
     "metadata": {},
     "output_type": "execute_result"
    }
   ],
   "source": [
    "readmit_df = post_df2[post_df2['Readmission'] == '1']\n",
    "readmit_df.shape"
   ]
  },
  {
   "cell_type": "code",
   "execution_count": 64,
   "id": "d371bf04",
   "metadata": {},
   "outputs": [
    {
     "data": {
      "text/plain": [
       "Other - Related Readmission                       101\n",
       "Congestive Heart Failure                           72\n",
       "Arrhythmia/Heart Block                             55\n",
       "Pneumonia or other Respiratory Complication        34\n",
       "Pleural effusion requiring intervention            13\n",
       "Respiratory complications; other                   12\n",
       "PE                                                 11\n",
       "Infection - Conduit Harvest Site                    9\n",
       "Myocardial Infarction and/or Recurrent Angina       9\n",
       "Pneumonia                                           9\n",
       "Permanent CVA                                       8\n",
       "GI issue                                            7\n",
       "DVT                                                 7\n",
       "Infection - Deep Sternum / Mediastinitis            6\n",
       "Pericardial Effusion and/or Tamponade               6\n",
       "Stroke                                              5\n",
       "Anticoagulation Complication - Pharmacological      5\n",
       "Wound; other (drainage; cellulitis)                 4\n",
       "Mental status changes                               3\n",
       "Other - Planned readmission                         2\n",
       "TIA                                                 2\n",
       "Vascular Complication; acute                        2\n",
       "Chest pain; noncardiac                              2\n",
       "Renal Failure                                       1\n",
       "Anticoagulation Complication - Valvular             1\n",
       "Blood Pressure (hyper or hypotension)               1\n",
       "Sepsis                                              1\n",
       "Electrolyte imbalance                               1\n",
       "Name: Readmit Reason, dtype: int64"
      ]
     },
     "execution_count": 64,
     "metadata": {},
     "output_type": "execute_result"
    }
   ],
   "source": [
    "readmit_df['Readmit Reason'].value_counts()"
   ]
  },
  {
   "cell_type": "code",
   "execution_count": null,
   "id": "dcc29900",
   "metadata": {},
   "outputs": [],
   "source": []
  },
  {
   "cell_type": "markdown",
   "id": "87a4fd27",
   "metadata": {},
   "source": [
    "# Table 3- Temp/Pollution Characteristics"
   ]
  },
  {
   "cell_type": "code",
   "execution_count": 14,
   "id": "bc46d640",
   "metadata": {},
   "outputs": [
    {
     "name": "stdout",
     "output_type": "stream",
     "text": [
      "mean_post_disch_mean_temp_C\n",
      "11.290674337061008\n",
      "8.489370855924278\n",
      "\n",
      "mean_post_disch_PM10\n",
      "13.308920805616252\n",
      "3.2978485502848214\n",
      "\n",
      "mean_post_disch_PM25\n",
      "6.826275637697891\n",
      "1.9546381692221222\n",
      "\n",
      "mean_post_disch_O3\n",
      "0.03880777961167556\n",
      "0.007144782278529998\n",
      "\n",
      "mean_post_disch_CO\n",
      "0.5879560419018047\n",
      "0.2744658167671699\n",
      "\n",
      "mean_post_disch_NO2\n",
      "23.147866387719557\n",
      "9.570167841225853\n",
      "\n",
      "mean_post_disch_SO2\n",
      "1.6686929707507485\n",
      "2.0376616362296702\n",
      "\n"
     ]
    }
   ],
   "source": [
    "for col in ['mean_post_disch_mean_temp_C',\n",
    "       'mean_post_disch_PM10', 'mean_post_disch_PM25', 'mean_post_disch_O3',\n",
    "       'mean_post_disch_CO', 'mean_post_disch_NO2', 'mean_post_disch_SO2',]:\n",
    "    print(col)\n",
    "    print(post_df[col].mean())\n",
    "    print(post_df[col].std())\n",
    "    print()"
   ]
  },
  {
   "cell_type": "code",
   "execution_count": 20,
   "id": "b9adad7f",
   "metadata": {},
   "outputs": [
    {
     "data": {
      "text/plain": [
       "0.2280568239472349"
      ]
     },
     "execution_count": 20,
     "metadata": {},
     "output_type": "execute_result"
    }
   ],
   "source": [
    "post_df['disch__spring'].sum()/post_df.shape[0]"
   ]
  },
  {
   "cell_type": "code",
   "execution_count": 21,
   "id": "26ed19d8",
   "metadata": {},
   "outputs": [
    {
     "data": {
      "text/plain": [
       "0.24708269913749364"
      ]
     },
     "execution_count": 21,
     "metadata": {},
     "output_type": "execute_result"
    }
   ],
   "source": [
    "post_df['disch__summer'].sum()/post_df.shape[0]"
   ]
  },
  {
   "cell_type": "code",
   "execution_count": 22,
   "id": "139032c4",
   "metadata": {},
   "outputs": [
    {
     "data": {
      "text/plain": [
       "0.25012683916793504"
      ]
     },
     "execution_count": 22,
     "metadata": {},
     "output_type": "execute_result"
    }
   ],
   "source": [
    "post_df['disch__winter'].sum()/post_df.shape[0]"
   ]
  },
  {
   "cell_type": "code",
   "execution_count": 9,
   "id": "131dff81",
   "metadata": {},
   "outputs": [
    {
     "data": {
      "text/plain": [
       "<Axes: >"
      ]
     },
     "execution_count": 9,
     "metadata": {},
     "output_type": "execute_result"
    },
    {
     "data": {
      "image/png": "[encoded data removed]",
      "text/plain": [
       "<Figure size 360x360 with 2 Axes>"
      ]
     },
     "metadata": {
      "needs_background": "light"
     },
     "output_type": "display_data"
    }
   ],
   "source": [
    "var = ['mean_post_disch_SO2', 'mean_post_disch_NO2', 'mean_post_disch_O3',\n",
    "'mean_post_disch_PM25', 'mean_post_disch_PM10', 'mean_post_disch_CO',\n",
    "'mean_post_disch_mean_temp_C']\n",
    "\n",
    "corr = post_df[var].corr(method = 'pearson')\n",
    "mask = np.triu(np.ones_like(corr,dtype = bool))\n",
    "f, ax = plt.subplots(figsize = (5,5))\n",
    "cmap = sns.diverging_palette(230,20,as_cmap = True)\n",
    "sns.heatmap(corr, mask = mask, cmap = cmap, square = True)"
   ]
  },
  {
   "cell_type": "code",
   "execution_count": null,
   "id": "af94ea13",
   "metadata": {},
   "outputs": [],
   "source": [
    "var = 'mean_post_disch_SO2'\n",
    "print(post_10_df[var].mean(), post_mid_df[var].mean(), post_90_df[var].mean())\n",
    "print(kruskal(post_10_df[var], post_mid_df[var], post_90_df[var], \n",
    "        nan_policy = 'omit'))\n",
    "\n",
    "post_10_df[var].hist()\n",
    "#post_mid_df[var].hist()\n",
    "post_90_df[var].hist()"
   ]
  },
  {
   "cell_type": "code",
   "execution_count": null,
   "id": "826b980e",
   "metadata": {},
   "outputs": [],
   "source": []
  }
 ],
 "metadata": {
  "kernelspec": {
   "display_name": "Python [conda env:root] *",
   "language": "python",
   "name": "conda-root-py"
  },
  "language_info": {
   "codemirror_mode": {
    "name": "ipython",
    "version": 3
   },
   "file_extension": ".py",
   "mimetype": "text/x-python",
   "name": "python",
   "nbconvert_exporter": "python",
   "pygments_lexer": "ipython3",
   "version": "3.10.12"
  }
 },
 "nbformat": 4,
 "nbformat_minor": 5
}
